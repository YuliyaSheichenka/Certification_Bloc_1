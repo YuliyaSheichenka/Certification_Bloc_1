{
 "cells": [
  {
   "cell_type": "code",
   "execution_count": 1,
   "metadata": {},
   "outputs": [],
   "source": [
    "# Installing dotenv library to manage confidential keys saved as environment variables\n",
    "#!pip install python-dotenv"
   ]
  },
  {
   "cell_type": "code",
   "execution_count": 2,
   "metadata": {},
   "outputs": [
    {
     "data": {
      "text/plain": [
       "True"
      ]
     },
     "execution_count": 2,
     "metadata": {},
     "output_type": "execute_result"
    }
   ],
   "source": [
    "import requests\n",
    "import json\n",
    "import pandas as pd\n",
    "import datetime\n",
    "import boto3\n",
    "\n",
    "import os\n",
    "from dotenv import load_dotenv\n",
    "\n",
    "load_dotenv()"
   ]
  },
  {
   "cell_type": "code",
   "execution_count": 3,
   "metadata": {},
   "outputs": [],
   "source": [
    "def timestamp_to_datetime(df, column):\n",
    "# converts 10-digit timestamp to datetime\n",
    "    for row in range(0, len(df)):\n",
    "        df.loc[row, column] = datetime.datetime.fromtimestamp(int(df.loc[row, column]))"
   ]
  },
  {
   "cell_type": "code",
   "execution_count": 4,
   "metadata": {},
   "outputs": [],
   "source": [
    "def split_dict_to_columns(df, column_to_split):\n",
    "    # Splits column where each cell is a dictionary \n",
    "    # into several columns (one new column per key)\n",
    "    keys = df[column_to_split][0].keys()\n",
    "    for row in range(0, len(df)):\n",
    "        for key in keys:\n",
    "            df.loc[row, column_to_split+\"_\"+key] = df[column_to_split][row][key]"
   ]
  },
  {
   "cell_type": "code",
   "execution_count": 5,
   "metadata": {},
   "outputs": [
    {
     "data": {
      "text/html": [
       "<div>\n",
       "<style scoped>\n",
       "    .dataframe tbody tr th:only-of-type {\n",
       "        vertical-align: middle;\n",
       "    }\n",
       "\n",
       "    .dataframe tbody tr th {\n",
       "        vertical-align: top;\n",
       "    }\n",
       "\n",
       "    .dataframe thead th {\n",
       "        text-align: right;\n",
       "    }\n",
       "</style>\n",
       "<table border=\"1\" class=\"dataframe\">\n",
       "  <thead>\n",
       "    <tr style=\"text-align: right;\">\n",
       "      <th></th>\n",
       "      <th>place_id</th>\n",
       "      <th>city_name</th>\n",
       "      <th>lat</th>\n",
       "      <th>lon</th>\n",
       "    </tr>\n",
       "  </thead>\n",
       "  <tbody>\n",
       "    <tr>\n",
       "      <th>0</th>\n",
       "      <td>156094680</td>\n",
       "      <td>Mont Saint-Michel</td>\n",
       "      <td>48.635954</td>\n",
       "      <td>-1.511460</td>\n",
       "    </tr>\n",
       "    <tr>\n",
       "      <th>1</th>\n",
       "      <td>297756747</td>\n",
       "      <td>Saint-Malo</td>\n",
       "      <td>48.649518</td>\n",
       "      <td>-2.026041</td>\n",
       "    </tr>\n",
       "    <tr>\n",
       "      <th>2</th>\n",
       "      <td>297981358</td>\n",
       "      <td>Bayeux</td>\n",
       "      <td>49.276462</td>\n",
       "      <td>-0.702474</td>\n",
       "    </tr>\n",
       "    <tr>\n",
       "      <th>3</th>\n",
       "      <td>298137491</td>\n",
       "      <td>Le Havre</td>\n",
       "      <td>49.493898</td>\n",
       "      <td>0.107973</td>\n",
       "    </tr>\n",
       "    <tr>\n",
       "      <th>4</th>\n",
       "      <td>297518815</td>\n",
       "      <td>Rouen</td>\n",
       "      <td>49.440459</td>\n",
       "      <td>1.093966</td>\n",
       "    </tr>\n",
       "  </tbody>\n",
       "</table>\n",
       "</div>"
      ],
      "text/plain": [
       "    place_id          city_name        lat       lon\n",
       "0  156094680  Mont Saint-Michel  48.635954 -1.511460\n",
       "1  297756747         Saint-Malo  48.649518 -2.026041\n",
       "2  297981358             Bayeux  49.276462 -0.702474\n",
       "3  298137491           Le Havre  49.493898  0.107973\n",
       "4  297518815              Rouen  49.440459  1.093966"
      ]
     },
     "execution_count": 5,
     "metadata": {},
     "output_type": "execute_result"
    }
   ],
   "source": [
    "# Loading .csv file with city coordinates from S3 bucket\n",
    "url = 'https://kayak-booking-bucket-12-12-2022.s3.eu-west-3.amazonaws.com/city_coordinates.csv'\n",
    "city_coord = pd.read_csv(url)\n",
    "city_coord.head(5)"
   ]
  },
  {
   "attachments": {},
   "cell_type": "markdown",
   "metadata": {},
   "source": [
    "### Getting weather data"
   ]
  },
  {
   "cell_type": "code",
   "execution_count": 6,
   "metadata": {},
   "outputs": [],
   "source": [
    "results = []\n",
    "\n",
    "# Loading API key from .env file\n",
    "API_KEY = os.getenv(\"API_KEY\")\n",
    "\n",
    "# Using city latitude and longtitude to get weather forecast for next 7 days for each of the cities\n",
    "for i in range(0, len(city_coord)):\n",
    "    lat = city_coord.loc[i, \"lat\"]\n",
    "    lon = city_coord.loc[i, \"lon\"]\n",
    "    response = requests.get(f\"https://api.openweathermap.org/data/3.0/onecall?lat={lat}&lon={lon}&exclude=current,minutely,hourly&units=metric&appid={API_KEY}\")\n",
    "    # We exclude current, minutely and hourly information to focus on daily forecast\n",
    "    # We indicate that we want to get values expressed in metric units\n",
    "    results.append(response.json())"
   ]
  },
  {
   "cell_type": "code",
   "execution_count": 7,
   "metadata": {},
   "outputs": [
    {
     "name": "stdout",
     "output_type": "stream",
     "text": [
      "Lenght of results:  35\n",
      "\n",
      "Type of data obtained for a city:  <class 'dict'>\n",
      "\n",
      "Dictionary keys:  dict_keys(['lat', 'lon', 'timezone', 'timezone_offset', 'daily'])\n",
      "\n",
      "\n",
      "Data type of value stored in 'daily' key:  <class 'list'>\n",
      "\n",
      "Number of days:  8\n",
      "\n",
      "Forecast for one day:  {'dt': 1677067200, 'sunrise': 1677049333, 'sunset': 1677087438, 'moonrise': 1677053940, 'moonset': 1677098400, 'moon_phase': 0.08, 'temp': {'day': 8.87, 'min': 6.21, 'max': 9.17, 'night': 6.21, 'eve': 8.39, 'morn': 6.85}, 'feels_like': {'day': 6.03, 'night': 3.88, 'eve': 5.9, 'morn': 5.31}, 'pressure': 1014, 'humidity': 93, 'dew_point': 7.63, 'wind_speed': 7.12, 'wind_deg': 330, 'wind_gust': 10.53, 'weather': [{'id': 500, 'main': 'Rain', 'description': 'light rain', 'icon': '10d'}], 'clouds': 94, 'pop': 0.66, 'rain': 1.25, 'uvi': 1.17}\n",
      "\n",
      "Data type for one day of weather data:  <class 'dict'>\n"
     ]
    }
   ],
   "source": [
    "# Checking if we obtained information for all 35 cities\n",
    "print(\"Lenght of results: \", len(results))\n",
    "print()\n",
    "\n",
    "# Checking what information we obtained for a city (commented to avoid long output)\n",
    "#print(\"Data obtained for a city: \", results[0])\n",
    "\n",
    "# Checking the type of data obtained for a city\n",
    "print(\"Type of data obtained for a city: \", type(results[0]))\n",
    "print()\n",
    "\n",
    "# As information for each one city is a dictionary, let us get a list of keys for future use\n",
    "print(\"Dictionary keys: \", results[0].keys())\n",
    "print()\n",
    "\n",
    "# Checking information stored as value for the 'daily' key\n",
    "# (commented to avoid long output)\n",
    "#print(\"Value stored in 'daily' key: \", results[0]['daily'])\n",
    "print()\n",
    "\n",
    "# The information is stored as a list\n",
    "print(\"Data type of value stored in 'daily' key: \", type(results[0]['daily']))\n",
    "print()\n",
    "\n",
    "# The length of the list corresponds to the number of days for which the forecast is know\n",
    "print(\"Number of days: \",len(results[0]['daily']))\n",
    "print()\n",
    "\n",
    "# Weather data for one day in one city\n",
    "print(\"Forecast for one day: \", results[0]['daily'][0])\n",
    "print()\n",
    "\n",
    "print(\"Data type for one day of weather data: \", type(results[0]['daily'][0]))"
   ]
  },
  {
   "attachments": {},
   "cell_type": "markdown",
   "metadata": {},
   "source": [
    "Weather data for each day is stored in the form of dictionary. We will create a list of such dictionaries and then build a dataframe from this list."
   ]
  },
  {
   "cell_type": "code",
   "execution_count": 8,
   "metadata": {},
   "outputs": [
    {
     "data": {
      "text/html": [
       "<div>\n",
       "<style scoped>\n",
       "    .dataframe tbody tr th:only-of-type {\n",
       "        vertical-align: middle;\n",
       "    }\n",
       "\n",
       "    .dataframe tbody tr th {\n",
       "        vertical-align: top;\n",
       "    }\n",
       "\n",
       "    .dataframe thead th {\n",
       "        text-align: right;\n",
       "    }\n",
       "</style>\n",
       "<table border=\"1\" class=\"dataframe\">\n",
       "  <thead>\n",
       "    <tr style=\"text-align: right;\">\n",
       "      <th></th>\n",
       "      <th>dt</th>\n",
       "      <th>sunrise</th>\n",
       "      <th>sunset</th>\n",
       "      <th>moonrise</th>\n",
       "      <th>moonset</th>\n",
       "      <th>moon_phase</th>\n",
       "      <th>temp</th>\n",
       "      <th>feels_like</th>\n",
       "      <th>pressure</th>\n",
       "      <th>humidity</th>\n",
       "      <th>dew_point</th>\n",
       "      <th>wind_speed</th>\n",
       "      <th>wind_deg</th>\n",
       "      <th>wind_gust</th>\n",
       "      <th>weather</th>\n",
       "      <th>clouds</th>\n",
       "      <th>pop</th>\n",
       "      <th>rain</th>\n",
       "      <th>uvi</th>\n",
       "      <th>snow</th>\n",
       "    </tr>\n",
       "  </thead>\n",
       "  <tbody>\n",
       "    <tr>\n",
       "      <th>0</th>\n",
       "      <td>1677067200</td>\n",
       "      <td>1677049333</td>\n",
       "      <td>1677087438</td>\n",
       "      <td>1677053940</td>\n",
       "      <td>1677098400</td>\n",
       "      <td>0.08</td>\n",
       "      <td>{'day': 8.87, 'min': 6.21, 'max': 9.17, 'night...</td>\n",
       "      <td>{'day': 6.03, 'night': 3.88, 'eve': 5.9, 'morn...</td>\n",
       "      <td>1014</td>\n",
       "      <td>93</td>\n",
       "      <td>7.63</td>\n",
       "      <td>7.12</td>\n",
       "      <td>330</td>\n",
       "      <td>10.53</td>\n",
       "      <td>[{'id': 500, 'main': 'Rain', 'description': 'l...</td>\n",
       "      <td>94</td>\n",
       "      <td>0.66</td>\n",
       "      <td>1.25</td>\n",
       "      <td>1.17</td>\n",
       "      <td>NaN</td>\n",
       "    </tr>\n",
       "    <tr>\n",
       "      <th>1</th>\n",
       "      <td>1677153600</td>\n",
       "      <td>1677135622</td>\n",
       "      <td>1677173935</td>\n",
       "      <td>1677141360</td>\n",
       "      <td>1677189600</td>\n",
       "      <td>0.12</td>\n",
       "      <td>{'day': 7.5, 'min': 3.73, 'max': 7.83, 'night'...</td>\n",
       "      <td>{'day': 3.84, 'night': 2.39, 'eve': 2.81, 'mor...</td>\n",
       "      <td>1017</td>\n",
       "      <td>84</td>\n",
       "      <td>4.75</td>\n",
       "      <td>9.05</td>\n",
       "      <td>41</td>\n",
       "      <td>14.73</td>\n",
       "      <td>[{'id': 500, 'main': 'Rain', 'description': 'l...</td>\n",
       "      <td>100</td>\n",
       "      <td>0.61</td>\n",
       "      <td>1.11</td>\n",
       "      <td>1.24</td>\n",
       "      <td>NaN</td>\n",
       "    </tr>\n",
       "    <tr>\n",
       "      <th>2</th>\n",
       "      <td>1677240000</td>\n",
       "      <td>1677221909</td>\n",
       "      <td>1677260431</td>\n",
       "      <td>1677228780</td>\n",
       "      <td>0</td>\n",
       "      <td>0.15</td>\n",
       "      <td>{'day': 9.09, 'min': 4.43, 'max': 9.55, 'night...</td>\n",
       "      <td>{'day': 6.06, 'night': 3.78, 'eve': 3.61, 'mor...</td>\n",
       "      <td>1012</td>\n",
       "      <td>65</td>\n",
       "      <td>2.63</td>\n",
       "      <td>8.40</td>\n",
       "      <td>44</td>\n",
       "      <td>14.43</td>\n",
       "      <td>[{'id': 803, 'main': 'Clouds', 'description': ...</td>\n",
       "      <td>78</td>\n",
       "      <td>0.24</td>\n",
       "      <td>NaN</td>\n",
       "      <td>1.75</td>\n",
       "      <td>NaN</td>\n",
       "    </tr>\n",
       "    <tr>\n",
       "      <th>3</th>\n",
       "      <td>1677326400</td>\n",
       "      <td>1677308195</td>\n",
       "      <td>1677346927</td>\n",
       "      <td>1677316320</td>\n",
       "      <td>1677280680</td>\n",
       "      <td>0.19</td>\n",
       "      <td>{'day': 7.58, 'min': 3.39, 'max': 7.58, 'night...</td>\n",
       "      <td>{'day': 3.74, 'night': -0.56, 'eve': 0.84, 'mo...</td>\n",
       "      <td>1016</td>\n",
       "      <td>62</td>\n",
       "      <td>0.45</td>\n",
       "      <td>8.55</td>\n",
       "      <td>49</td>\n",
       "      <td>12.59</td>\n",
       "      <td>[{'id': 803, 'main': 'Clouds', 'description': ...</td>\n",
       "      <td>69</td>\n",
       "      <td>0.18</td>\n",
       "      <td>NaN</td>\n",
       "      <td>1.25</td>\n",
       "      <td>NaN</td>\n",
       "    </tr>\n",
       "    <tr>\n",
       "      <th>4</th>\n",
       "      <td>1677412800</td>\n",
       "      <td>1677394481</td>\n",
       "      <td>1677433422</td>\n",
       "      <td>1677404040</td>\n",
       "      <td>1677371700</td>\n",
       "      <td>0.22</td>\n",
       "      <td>{'day': 5.86, 'min': 1.2, 'max': 6.17, 'night'...</td>\n",
       "      <td>{'day': 0.85, 'night': -3.96, 'eve': -1.56, 'm...</td>\n",
       "      <td>1024</td>\n",
       "      <td>48</td>\n",
       "      <td>-4.39</td>\n",
       "      <td>9.55</td>\n",
       "      <td>51</td>\n",
       "      <td>14.80</td>\n",
       "      <td>[{'id': 800, 'main': 'Clear', 'description': '...</td>\n",
       "      <td>8</td>\n",
       "      <td>0.04</td>\n",
       "      <td>NaN</td>\n",
       "      <td>2.04</td>\n",
       "      <td>NaN</td>\n",
       "    </tr>\n",
       "  </tbody>\n",
       "</table>\n",
       "</div>"
      ],
      "text/plain": [
       "           dt     sunrise      sunset    moonrise     moonset  moon_phase  \\\n",
       "0  1677067200  1677049333  1677087438  1677053940  1677098400        0.08   \n",
       "1  1677153600  1677135622  1677173935  1677141360  1677189600        0.12   \n",
       "2  1677240000  1677221909  1677260431  1677228780           0        0.15   \n",
       "3  1677326400  1677308195  1677346927  1677316320  1677280680        0.19   \n",
       "4  1677412800  1677394481  1677433422  1677404040  1677371700        0.22   \n",
       "\n",
       "                                                temp  \\\n",
       "0  {'day': 8.87, 'min': 6.21, 'max': 9.17, 'night...   \n",
       "1  {'day': 7.5, 'min': 3.73, 'max': 7.83, 'night'...   \n",
       "2  {'day': 9.09, 'min': 4.43, 'max': 9.55, 'night...   \n",
       "3  {'day': 7.58, 'min': 3.39, 'max': 7.58, 'night...   \n",
       "4  {'day': 5.86, 'min': 1.2, 'max': 6.17, 'night'...   \n",
       "\n",
       "                                          feels_like  pressure  humidity  \\\n",
       "0  {'day': 6.03, 'night': 3.88, 'eve': 5.9, 'morn...      1014        93   \n",
       "1  {'day': 3.84, 'night': 2.39, 'eve': 2.81, 'mor...      1017        84   \n",
       "2  {'day': 6.06, 'night': 3.78, 'eve': 3.61, 'mor...      1012        65   \n",
       "3  {'day': 3.74, 'night': -0.56, 'eve': 0.84, 'mo...      1016        62   \n",
       "4  {'day': 0.85, 'night': -3.96, 'eve': -1.56, 'm...      1024        48   \n",
       "\n",
       "   dew_point  wind_speed  wind_deg  wind_gust  \\\n",
       "0       7.63        7.12       330      10.53   \n",
       "1       4.75        9.05        41      14.73   \n",
       "2       2.63        8.40        44      14.43   \n",
       "3       0.45        8.55        49      12.59   \n",
       "4      -4.39        9.55        51      14.80   \n",
       "\n",
       "                                             weather  clouds   pop  rain  \\\n",
       "0  [{'id': 500, 'main': 'Rain', 'description': 'l...      94  0.66  1.25   \n",
       "1  [{'id': 500, 'main': 'Rain', 'description': 'l...     100  0.61  1.11   \n",
       "2  [{'id': 803, 'main': 'Clouds', 'description': ...      78  0.24   NaN   \n",
       "3  [{'id': 803, 'main': 'Clouds', 'description': ...      69  0.18   NaN   \n",
       "4  [{'id': 800, 'main': 'Clear', 'description': '...       8  0.04   NaN   \n",
       "\n",
       "    uvi  snow  \n",
       "0  1.17   NaN  \n",
       "1  1.24   NaN  \n",
       "2  1.75   NaN  \n",
       "3  1.25   NaN  \n",
       "4  2.04   NaN  "
      ]
     },
     "execution_count": 8,
     "metadata": {},
     "output_type": "execute_result"
    }
   ],
   "source": [
    "\n",
    "# Creating a list of dictionaries\n",
    "weather_by_day = []\n",
    "\n",
    "for city in range(0, len(results)):\n",
    "    for day in range(0, 7): \n",
    "        # keeping weather information about next 7 days\n",
    "        day_weather = results[city]['daily'][day]\n",
    "        weather_by_day.append(day_weather)\n",
    "\n",
    "# Creating a dataframe from a list of dictionaries\n",
    "weekly_forecast_df = pd.DataFrame.from_records(weather_by_day)\n",
    "\n",
    "# Checking the resulting dataframe\n",
    "weekly_forecast_df.head()"
   ]
  },
  {
   "cell_type": "code",
   "execution_count": 9,
   "metadata": {},
   "outputs": [
    {
     "data": {
      "text/html": [
       "<div>\n",
       "<style scoped>\n",
       "    .dataframe tbody tr th:only-of-type {\n",
       "        vertical-align: middle;\n",
       "    }\n",
       "\n",
       "    .dataframe tbody tr th {\n",
       "        vertical-align: top;\n",
       "    }\n",
       "\n",
       "    .dataframe thead th {\n",
       "        text-align: right;\n",
       "    }\n",
       "</style>\n",
       "<table border=\"1\" class=\"dataframe\">\n",
       "  <thead>\n",
       "    <tr style=\"text-align: right;\">\n",
       "      <th></th>\n",
       "      <th>temp</th>\n",
       "      <th>feels_like</th>\n",
       "      <th>weather</th>\n",
       "    </tr>\n",
       "  </thead>\n",
       "  <tbody>\n",
       "    <tr>\n",
       "      <th>0</th>\n",
       "      <td>{'day': 8.87, 'min': 6.21, 'max': 9.17, 'night...</td>\n",
       "      <td>{'day': 6.03, 'night': 3.88, 'eve': 5.9, 'morn...</td>\n",
       "      <td>[{'id': 500, 'main': 'Rain', 'description': 'l...</td>\n",
       "    </tr>\n",
       "    <tr>\n",
       "      <th>1</th>\n",
       "      <td>{'day': 7.5, 'min': 3.73, 'max': 7.83, 'night'...</td>\n",
       "      <td>{'day': 3.84, 'night': 2.39, 'eve': 2.81, 'mor...</td>\n",
       "      <td>[{'id': 500, 'main': 'Rain', 'description': 'l...</td>\n",
       "    </tr>\n",
       "    <tr>\n",
       "      <th>2</th>\n",
       "      <td>{'day': 9.09, 'min': 4.43, 'max': 9.55, 'night...</td>\n",
       "      <td>{'day': 6.06, 'night': 3.78, 'eve': 3.61, 'mor...</td>\n",
       "      <td>[{'id': 803, 'main': 'Clouds', 'description': ...</td>\n",
       "    </tr>\n",
       "    <tr>\n",
       "      <th>3</th>\n",
       "      <td>{'day': 7.58, 'min': 3.39, 'max': 7.58, 'night...</td>\n",
       "      <td>{'day': 3.74, 'night': -0.56, 'eve': 0.84, 'mo...</td>\n",
       "      <td>[{'id': 803, 'main': 'Clouds', 'description': ...</td>\n",
       "    </tr>\n",
       "    <tr>\n",
       "      <th>4</th>\n",
       "      <td>{'day': 5.86, 'min': 1.2, 'max': 6.17, 'night'...</td>\n",
       "      <td>{'day': 0.85, 'night': -3.96, 'eve': -1.56, 'm...</td>\n",
       "      <td>[{'id': 800, 'main': 'Clear', 'description': '...</td>\n",
       "    </tr>\n",
       "  </tbody>\n",
       "</table>\n",
       "</div>"
      ],
      "text/plain": [
       "                                                temp  \\\n",
       "0  {'day': 8.87, 'min': 6.21, 'max': 9.17, 'night...   \n",
       "1  {'day': 7.5, 'min': 3.73, 'max': 7.83, 'night'...   \n",
       "2  {'day': 9.09, 'min': 4.43, 'max': 9.55, 'night...   \n",
       "3  {'day': 7.58, 'min': 3.39, 'max': 7.58, 'night...   \n",
       "4  {'day': 5.86, 'min': 1.2, 'max': 6.17, 'night'...   \n",
       "\n",
       "                                          feels_like  \\\n",
       "0  {'day': 6.03, 'night': 3.88, 'eve': 5.9, 'morn...   \n",
       "1  {'day': 3.84, 'night': 2.39, 'eve': 2.81, 'mor...   \n",
       "2  {'day': 6.06, 'night': 3.78, 'eve': 3.61, 'mor...   \n",
       "3  {'day': 3.74, 'night': -0.56, 'eve': 0.84, 'mo...   \n",
       "4  {'day': 0.85, 'night': -3.96, 'eve': -1.56, 'm...   \n",
       "\n",
       "                                             weather  \n",
       "0  [{'id': 500, 'main': 'Rain', 'description': 'l...  \n",
       "1  [{'id': 500, 'main': 'Rain', 'description': 'l...  \n",
       "2  [{'id': 803, 'main': 'Clouds', 'description': ...  \n",
       "3  [{'id': 803, 'main': 'Clouds', 'description': ...  \n",
       "4  [{'id': 800, 'main': 'Clear', 'description': '...  "
      ]
     },
     "execution_count": 9,
     "metadata": {},
     "output_type": "execute_result"
    }
   ],
   "source": [
    "# Checking what columns contain data in the string ('object') form\n",
    "weekly_forecast_df.select_dtypes(include=['object']).head()"
   ]
  },
  {
   "cell_type": "code",
   "execution_count": 10,
   "metadata": {},
   "outputs": [
    {
     "name": "stdout",
     "output_type": "stream",
     "text": [
      "{'day': 8.87, 'min': 6.21, 'max': 9.17, 'night': 6.21, 'eve': 8.39, 'morn': 6.85}\n",
      "{'day': 6.03, 'night': 3.88, 'eve': 5.9, 'morn': 5.31}\n",
      "[{'id': 500, 'main': 'Rain', 'description': 'light rain', 'icon': '10d'}]\n"
     ]
    }
   ],
   "source": [
    "# Checking the contents of a cell in 'temp' column\n",
    "print(weekly_forecast_df.loc[0, \"temp\"])\n",
    "(print)\n",
    "\n",
    "# Checking the contents of a cell in 'feels_like' column\n",
    "print(weekly_forecast_df.loc[0, \"feels_like\"])\n",
    "\n",
    "# Checking the contents of a cell in 'weather' column\n",
    "print(weekly_forecast_df.loc[0, \"weather\"])"
   ]
  },
  {
   "attachments": {},
   "cell_type": "markdown",
   "metadata": {},
   "source": [
    "Each of the cells in these columns contains a dictionary. I would like to split this information into several columns, so that each key in such dictionaries becomes a separate column."
   ]
  },
  {
   "cell_type": "code",
   "execution_count": 11,
   "metadata": {},
   "outputs": [],
   "source": [
    "# Splitting columns using the previously defined function 'split_dict_to_columns'\n",
    "split_dict_to_columns(weekly_forecast_df, \"temp\")\n",
    "\n",
    "split_dict_to_columns(weekly_forecast_df, \"feels_like\")"
   ]
  },
  {
   "attachments": {},
   "cell_type": "markdown",
   "metadata": {},
   "source": [
    "In the 'weather' column, the cell contains a list that contains a dictionary, so there is a slight adjustment to the code compared to other columns."
   ]
  },
  {
   "cell_type": "code",
   "execution_count": 12,
   "metadata": {},
   "outputs": [
    {
     "name": "stdout",
     "output_type": "stream",
     "text": [
      "dict_keys(['id', 'main', 'description', 'icon'])\n"
     ]
    }
   ],
   "source": [
    "# Keys for creating columns from splitting 'weather' column\n",
    "weather_keys = weekly_forecast_df[\"weather\"][0][0].keys()\n",
    "print(weather_keys)\n",
    "\n",
    "# Splitting dictionary in column 'weather' into several columns\n",
    "for row in range(0, len(weekly_forecast_df)): \n",
    "    for key in weather_keys:\n",
    "        weekly_forecast_df.loc[row, \"weather_\"+key] = weekly_forecast_df[\"weather\"][row][0][key]\n"
   ]
  },
  {
   "cell_type": "code",
   "execution_count": 13,
   "metadata": {},
   "outputs": [],
   "source": [
    "# Checking the resulting table (commented to avoid long output)\n",
    "#pd.set_option('display.max_columns', None)\n",
    "#weekly_forecast_df.head(5)"
   ]
  },
  {
   "cell_type": "code",
   "execution_count": 14,
   "metadata": {},
   "outputs": [
    {
     "name": "stdout",
     "output_type": "stream",
     "text": [
      "Index(['dt', 'sunrise', 'sunset', 'moonrise', 'moonset', 'moon_phase', 'temp',\n",
      "       'feels_like', 'pressure', 'humidity', 'dew_point', 'wind_speed',\n",
      "       'wind_deg', 'wind_gust', 'weather', 'clouds', 'pop', 'rain', 'uvi',\n",
      "       'snow', 'temp_day', 'temp_min', 'temp_max', 'temp_night', 'temp_eve',\n",
      "       'temp_morn', 'feels_like_day', 'feels_like_night', 'feels_like_eve',\n",
      "       'feels_like_morn', 'weather_id', 'weather_main', 'weather_description',\n",
      "       'weather_icon'],\n",
      "      dtype='object')\n"
     ]
    }
   ],
   "source": [
    "print(weekly_forecast_df.columns)\n",
    "\n",
    "# Dropping some unnecessary columns\n",
    "columns_to_drop = ['moonrise', 'moonset', 'moon_phase', 'temp',\n",
    "       'feels_like', 'weather', 'weather_icon']\n",
    "\n",
    "weather_df = weekly_forecast_df.drop(columns_to_drop, axis=1)"
   ]
  },
  {
   "attachments": {},
   "cell_type": "markdown",
   "metadata": {},
   "source": [
    "Some columns contain information about time in timestamp format. We will convert this information into datetime format."
   ]
  },
  {
   "cell_type": "code",
   "execution_count": 15,
   "metadata": {},
   "outputs": [],
   "source": [
    "timestamp_date_columns = ['dt', 'sunrise', 'sunset']\n",
    "for column in timestamp_date_columns:\n",
    "    timestamp_to_datetime(weather_df, column)"
   ]
  },
  {
   "attachments": {},
   "cell_type": "markdown",
   "metadata": {},
   "source": [
    "'weather_df' dataframe contains 245 rows (35 cities x 7 days). To be able to merge the table easily with the other tables in this project, we will create a column 'city_name' for each of the rows in the 'weather_df'. The weather data was obtained based on the list of cities in the table 'city_coord', so we can simply create a column using the same list with each city name repeated 7 times."
   ]
  },
  {
   "cell_type": "code",
   "execution_count": 16,
   "metadata": {},
   "outputs": [
    {
     "name": "stdout",
     "output_type": "stream",
     "text": [
      "Length of the 'weather_df':  245\n"
     ]
    }
   ],
   "source": [
    "print(\"Length of the 'weather_df': \", len(weather_df))\n",
    "\n",
    "# Adding column with city name for each row with daily forecast\n",
    "target_df_start_index = 0\n",
    "target_df_end_index = 7\n",
    "for source_df_row in range(0, len(city_coord)):\n",
    "    for target_df_row in range(target_df_start_index, target_df_end_index):\n",
    "        weather_df.loc[target_df_row, \"city_name\"] = city_coord.loc[source_df_row, \"city_name\"]\n",
    "    target_df_start_index = target_df_start_index+7\n",
    "    target_df_end_index= target_df_end_index+7\n",
    "\n",
    "\n",
    "# Checking the resulting dataframe (commented to avoid long output)\n",
    "# weather_df.head(10)"
   ]
  },
  {
   "attachments": {},
   "cell_type": "markdown",
   "metadata": {},
   "source": [
    "### Saving the dataframe locally and in bucket S3"
   ]
  },
  {
   "cell_type": "code",
   "execution_count": 17,
   "metadata": {},
   "outputs": [],
   "source": [
    "# Saving the dataframe as .csv file locally\n",
    "weather_df.to_csv(\"weather_forecast.csv\", index=False)"
   ]
  },
  {
   "cell_type": "code",
   "execution_count": 19,
   "metadata": {},
   "outputs": [],
   "source": [
    "# (Cell is commented to avoid unnecessary rewriting in S3)\n",
    "\"\"\"# Access key for user with access to write in S3 bucket\n",
    "S3_ACCESS_KEY_ID =  os.getenv(\"S3_ACCESS_KEY_ID\")\n",
    "# Secret key for user with access to write in S3 bucket \n",
    "S3_SECRET_ACCESS_KEY =  os.getenv(\"S3_SECRET_ACCESS_KEY\")\n",
    "\n",
    "# Writing the .csv file to bucket S3\n",
    "session = boto3.Session(aws_access_key_id=S3_ACCESS_KEY_ID, \n",
    "                      aws_secret_access_key=S3_SECRET_ACCESS_KEY)\n",
    "s3 = session.resource(\"s3\")\n",
    "bucket = s3.Bucket(\"kayak-booking-bucket-12-12-2022\") \n",
    "bucket.upload_file(\"weather_forecast.csv\", Key=\"weather_forecast.csv\")\"\"\""
   ]
  }
 ],
 "metadata": {
  "kernelspec": {
   "display_name": "Python 3.10.8 64-bit (microsoft store)",
   "language": "python",
   "name": "python3"
  },
  "language_info": {
   "codemirror_mode": {
    "name": "ipython",
    "version": 3
   },
   "file_extension": ".py",
   "mimetype": "text/x-python",
   "name": "python",
   "nbconvert_exporter": "python",
   "pygments_lexer": "ipython3",
   "version": "3.10.10"
  },
  "orig_nbformat": 4,
  "vscode": {
   "interpreter": {
    "hash": "a0fdf8838102b5a6b2938995cfca801768491c1c6585082ea8435b0dad918ca1"
   }
  }
 },
 "nbformat": 4,
 "nbformat_minor": 2
}
