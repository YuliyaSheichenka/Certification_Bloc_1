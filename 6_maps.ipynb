{
 "cells": [
  {
   "cell_type": "code",
   "execution_count": 1,
   "metadata": {},
   "outputs": [],
   "source": [
    "import pandas as pd\n",
    "import plotly.express as px\n",
    "import plotly.graph_objects as go"
   ]
  },
  {
   "cell_type": "code",
   "execution_count": 2,
   "metadata": {},
   "outputs": [],
   "source": [
    "\n",
    "# Loading data from S3 bucket\n",
    "url = 'https://kayak-booking-bucket-12-12-2022.s3.eu-west-3.amazonaws.com/kayak.csv'\n",
    "kayak_df = pd.read_csv(url)"
   ]
  },
  {
   "attachments": {},
   "cell_type": "markdown",
   "metadata": {},
   "source": [
    "For each destination, the table contains daily forecasts for next 7 days for each city. Let us see group toghether the forecast by the city to obtain mean values of different weather characteristics for the next 7 days."
   ]
  },
  {
   "cell_type": "code",
   "execution_count": 3,
   "metadata": {},
   "outputs": [
    {
     "data": {
      "text/html": [
       "<div>\n",
       "<style scoped>\n",
       "    .dataframe tbody tr th:only-of-type {\n",
       "        vertical-align: middle;\n",
       "    }\n",
       "\n",
       "    .dataframe tbody tr th {\n",
       "        vertical-align: top;\n",
       "    }\n",
       "\n",
       "    .dataframe thead th {\n",
       "        text-align: right;\n",
       "    }\n",
       "</style>\n",
       "<table border=\"1\" class=\"dataframe\">\n",
       "  <thead>\n",
       "    <tr style=\"text-align: right;\">\n",
       "      <th></th>\n",
       "      <th>city_name</th>\n",
       "      <th>city_id</th>\n",
       "      <th>city_latitude</th>\n",
       "      <th>city_longtitude</th>\n",
       "      <th>score</th>\n",
       "      <th>hotel_latitude</th>\n",
       "      <th>hotel_longtitude</th>\n",
       "      <th>weather_id</th>\n",
       "      <th>pressure</th>\n",
       "      <th>humidity</th>\n",
       "      <th>...</th>\n",
       "      <th>temp_day</th>\n",
       "      <th>temp_min</th>\n",
       "      <th>temp_max</th>\n",
       "      <th>temp_night</th>\n",
       "      <th>temp_eve</th>\n",
       "      <th>temp_morn</th>\n",
       "      <th>feels_like_day</th>\n",
       "      <th>feels_like_night</th>\n",
       "      <th>feels_like_eve</th>\n",
       "      <th>feels_like_morn</th>\n",
       "    </tr>\n",
       "  </thead>\n",
       "  <tbody>\n",
       "    <tr>\n",
       "      <th>0</th>\n",
       "      <td>Aigues-Mortes</td>\n",
       "      <td>298018344.0</td>\n",
       "      <td>43.565823</td>\n",
       "      <td>4.191284</td>\n",
       "      <td>8.769565</td>\n",
       "      <td>43.566611</td>\n",
       "      <td>4.190647</td>\n",
       "      <td>672.285714</td>\n",
       "      <td>1014.285714</td>\n",
       "      <td>62.714286</td>\n",
       "      <td>...</td>\n",
       "      <td>12.987143</td>\n",
       "      <td>8.914286</td>\n",
       "      <td>13.670000</td>\n",
       "      <td>10.494286</td>\n",
       "      <td>11.688571</td>\n",
       "      <td>9.661429</td>\n",
       "      <td>11.980000</td>\n",
       "      <td>8.767143</td>\n",
       "      <td>10.367143</td>\n",
       "      <td>8.034286</td>\n",
       "    </tr>\n",
       "    <tr>\n",
       "      <th>1</th>\n",
       "      <td>Aix-en-Provence</td>\n",
       "      <td>297906924.0</td>\n",
       "      <td>43.529842</td>\n",
       "      <td>5.447474</td>\n",
       "      <td>8.153333</td>\n",
       "      <td>43.527318</td>\n",
       "      <td>5.446230</td>\n",
       "      <td>672.428571</td>\n",
       "      <td>1012.571429</td>\n",
       "      <td>54.714286</td>\n",
       "      <td>...</td>\n",
       "      <td>14.225714</td>\n",
       "      <td>8.384286</td>\n",
       "      <td>15.204286</td>\n",
       "      <td>10.165714</td>\n",
       "      <td>12.640000</td>\n",
       "      <td>8.924286</td>\n",
       "      <td>13.131429</td>\n",
       "      <td>9.304286</td>\n",
       "      <td>11.615714</td>\n",
       "      <td>8.064286</td>\n",
       "    </tr>\n",
       "    <tr>\n",
       "      <th>2</th>\n",
       "      <td>Amiens</td>\n",
       "      <td>297534793.0</td>\n",
       "      <td>49.894171</td>\n",
       "      <td>2.295695</td>\n",
       "      <td>8.539130</td>\n",
       "      <td>49.895030</td>\n",
       "      <td>2.299150</td>\n",
       "      <td>672.428571</td>\n",
       "      <td>1018.857143</td>\n",
       "      <td>67.714286</td>\n",
       "      <td>...</td>\n",
       "      <td>8.785714</td>\n",
       "      <td>3.125714</td>\n",
       "      <td>9.160000</td>\n",
       "      <td>4.674286</td>\n",
       "      <td>6.560000</td>\n",
       "      <td>3.250000</td>\n",
       "      <td>6.480000</td>\n",
       "      <td>1.917143</td>\n",
       "      <td>3.870000</td>\n",
       "      <td>0.704286</td>\n",
       "    </tr>\n",
       "    <tr>\n",
       "      <th>3</th>\n",
       "      <td>Annecy</td>\n",
       "      <td>298516920.0</td>\n",
       "      <td>45.899235</td>\n",
       "      <td>6.128885</td>\n",
       "      <td>8.204348</td>\n",
       "      <td>45.899733</td>\n",
       "      <td>6.126764</td>\n",
       "      <td>629.714286</td>\n",
       "      <td>1014.714286</td>\n",
       "      <td>66.428571</td>\n",
       "      <td>...</td>\n",
       "      <td>10.760000</td>\n",
       "      <td>5.052857</td>\n",
       "      <td>11.647143</td>\n",
       "      <td>6.501429</td>\n",
       "      <td>8.431429</td>\n",
       "      <td>6.044286</td>\n",
       "      <td>9.225714</td>\n",
       "      <td>5.264286</td>\n",
       "      <td>6.832857</td>\n",
       "      <td>5.207143</td>\n",
       "    </tr>\n",
       "    <tr>\n",
       "      <th>4</th>\n",
       "      <td>Ariège</td>\n",
       "      <td>297389050.0</td>\n",
       "      <td>42.945537</td>\n",
       "      <td>1.406554</td>\n",
       "      <td>8.526667</td>\n",
       "      <td>42.821752</td>\n",
       "      <td>1.643028</td>\n",
       "      <td>605.285714</td>\n",
       "      <td>1015.428571</td>\n",
       "      <td>76.285714</td>\n",
       "      <td>...</td>\n",
       "      <td>4.642857</td>\n",
       "      <td>0.255714</td>\n",
       "      <td>5.694286</td>\n",
       "      <td>1.324286</td>\n",
       "      <td>2.555714</td>\n",
       "      <td>0.778571</td>\n",
       "      <td>3.495714</td>\n",
       "      <td>0.334286</td>\n",
       "      <td>1.824286</td>\n",
       "      <td>-0.541429</td>\n",
       "    </tr>\n",
       "  </tbody>\n",
       "</table>\n",
       "<p>5 rows × 29 columns</p>\n",
       "</div>"
      ],
      "text/plain": [
       "         city_name      city_id  city_latitude  city_longtitude     score  \\\n",
       "0    Aigues-Mortes  298018344.0      43.565823         4.191284  8.769565   \n",
       "1  Aix-en-Provence  297906924.0      43.529842         5.447474  8.153333   \n",
       "2           Amiens  297534793.0      49.894171         2.295695  8.539130   \n",
       "3           Annecy  298516920.0      45.899235         6.128885  8.204348   \n",
       "4           Ariège  297389050.0      42.945537         1.406554  8.526667   \n",
       "\n",
       "   hotel_latitude  hotel_longtitude  weather_id     pressure   humidity  ...  \\\n",
       "0       43.566611          4.190647  672.285714  1014.285714  62.714286  ...   \n",
       "1       43.527318          5.446230  672.428571  1012.571429  54.714286  ...   \n",
       "2       49.895030          2.299150  672.428571  1018.857143  67.714286  ...   \n",
       "3       45.899733          6.126764  629.714286  1014.714286  66.428571  ...   \n",
       "4       42.821752          1.643028  605.285714  1015.428571  76.285714  ...   \n",
       "\n",
       "    temp_day  temp_min   temp_max  temp_night   temp_eve  temp_morn  \\\n",
       "0  12.987143  8.914286  13.670000   10.494286  11.688571   9.661429   \n",
       "1  14.225714  8.384286  15.204286   10.165714  12.640000   8.924286   \n",
       "2   8.785714  3.125714   9.160000    4.674286   6.560000   3.250000   \n",
       "3  10.760000  5.052857  11.647143    6.501429   8.431429   6.044286   \n",
       "4   4.642857  0.255714   5.694286    1.324286   2.555714   0.778571   \n",
       "\n",
       "   feels_like_day  feels_like_night  feels_like_eve  feels_like_morn  \n",
       "0       11.980000          8.767143       10.367143         8.034286  \n",
       "1       13.131429          9.304286       11.615714         8.064286  \n",
       "2        6.480000          1.917143        3.870000         0.704286  \n",
       "3        9.225714          5.264286        6.832857         5.207143  \n",
       "4        3.495714          0.334286        1.824286        -0.541429  \n",
       "\n",
       "[5 rows x 29 columns]"
      ]
     },
     "execution_count": 3,
     "metadata": {},
     "output_type": "execute_result"
    }
   ],
   "source": [
    "weekly_forecast_by_city = kayak_df.groupby(['city_name']).mean(numeric_only=True).reset_index()\n",
    "weekly_forecast_by_city.head()"
   ]
  },
  {
   "attachments": {},
   "cell_type": "markdown",
   "metadata": {},
   "source": [
    "I think that the perfect weather for visiting a city is about 25°C. So I will choose five cities where mean temperature for next 7 days is closest to 25°C."
   ]
  },
  {
   "cell_type": "code",
   "execution_count": 4,
   "metadata": {},
   "outputs": [
    {
     "data": {
      "text/html": [
       "<div>\n",
       "<style scoped>\n",
       "    .dataframe tbody tr th:only-of-type {\n",
       "        vertical-align: middle;\n",
       "    }\n",
       "\n",
       "    .dataframe tbody tr th {\n",
       "        vertical-align: top;\n",
       "    }\n",
       "\n",
       "    .dataframe thead th {\n",
       "        text-align: right;\n",
       "    }\n",
       "</style>\n",
       "<table border=\"1\" class=\"dataframe\">\n",
       "  <thead>\n",
       "    <tr style=\"text-align: right;\">\n",
       "      <th></th>\n",
       "      <th>city_name</th>\n",
       "      <th>temp_day</th>\n",
       "      <th>dif_from_optimum</th>\n",
       "    </tr>\n",
       "  </thead>\n",
       "  <tbody>\n",
       "    <tr>\n",
       "      <th>12</th>\n",
       "      <td>Cassis</td>\n",
       "      <td>14.448571</td>\n",
       "      <td>10.551429</td>\n",
       "    </tr>\n",
       "    <tr>\n",
       "      <th>1</th>\n",
       "      <td>Aix-en-Provence</td>\n",
       "      <td>14.225714</td>\n",
       "      <td>10.774286</td>\n",
       "    </tr>\n",
       "    <tr>\n",
       "      <th>10</th>\n",
       "      <td>Bormes-les-Mimosas</td>\n",
       "      <td>13.577143</td>\n",
       "      <td>11.422857</td>\n",
       "    </tr>\n",
       "    <tr>\n",
       "      <th>27</th>\n",
       "      <td>Nîmes</td>\n",
       "      <td>13.138571</td>\n",
       "      <td>11.861429</td>\n",
       "    </tr>\n",
       "    <tr>\n",
       "      <th>0</th>\n",
       "      <td>Aigues-Mortes</td>\n",
       "      <td>12.987143</td>\n",
       "      <td>12.012857</td>\n",
       "    </tr>\n",
       "  </tbody>\n",
       "</table>\n",
       "</div>"
      ],
      "text/plain": [
       "             city_name   temp_day  dif_from_optimum\n",
       "12              Cassis  14.448571         10.551429\n",
       "1      Aix-en-Provence  14.225714         10.774286\n",
       "10  Bormes-les-Mimosas  13.577143         11.422857\n",
       "27               Nîmes  13.138571         11.861429\n",
       "0        Aigues-Mortes  12.987143         12.012857"
      ]
     },
     "metadata": {},
     "output_type": "display_data"
    }
   ],
   "source": [
    "weekly_forecast_by_city[\"dif_from_optimum\"] = abs(25 - weekly_forecast_by_city[\"temp_day\"])\n",
    "best_cities_df = weekly_forecast_by_city[[\"city_name\", \"temp_day\", \"dif_from_optimum\"]].sort_values(by=['dif_from_optimum'])[:5]\n",
    "display(best_cities_df)"
   ]
  },
  {
   "cell_type": "code",
   "execution_count": 5,
   "metadata": {},
   "outputs": [
    {
     "data": {
      "text/plain": [
       "['Cassis', 'Aix-en-Provence', 'Bormes-les-Mimosas', 'Nîmes', 'Aigues-Mortes']"
      ]
     },
     "execution_count": 5,
     "metadata": {},
     "output_type": "execute_result"
    }
   ],
   "source": [
    "best_cities = best_cities_df[\"city_name\"].tolist()\n",
    "best_cities"
   ]
  },
  {
   "cell_type": "code",
   "execution_count": 6,
   "metadata": {},
   "outputs": [
    {
     "data": {
      "text/html": [
       "<div>\n",
       "<style scoped>\n",
       "    .dataframe tbody tr th:only-of-type {\n",
       "        vertical-align: middle;\n",
       "    }\n",
       "\n",
       "    .dataframe tbody tr th {\n",
       "        vertical-align: top;\n",
       "    }\n",
       "\n",
       "    .dataframe thead th {\n",
       "        text-align: right;\n",
       "    }\n",
       "</style>\n",
       "<table border=\"1\" class=\"dataframe\">\n",
       "  <thead>\n",
       "    <tr style=\"text-align: right;\">\n",
       "      <th></th>\n",
       "      <th>city_name</th>\n",
       "      <th>city_id</th>\n",
       "      <th>city_latitude</th>\n",
       "      <th>city_longtitude</th>\n",
       "      <th>score</th>\n",
       "      <th>hotel_latitude</th>\n",
       "      <th>hotel_longtitude</th>\n",
       "      <th>weather_id</th>\n",
       "      <th>pressure</th>\n",
       "      <th>humidity</th>\n",
       "      <th>...</th>\n",
       "      <th>temp_min</th>\n",
       "      <th>temp_max</th>\n",
       "      <th>temp_night</th>\n",
       "      <th>temp_eve</th>\n",
       "      <th>temp_morn</th>\n",
       "      <th>feels_like_day</th>\n",
       "      <th>feels_like_night</th>\n",
       "      <th>feels_like_eve</th>\n",
       "      <th>feels_like_morn</th>\n",
       "      <th>dif_from_optimum</th>\n",
       "    </tr>\n",
       "  </thead>\n",
       "  <tbody>\n",
       "    <tr>\n",
       "      <th>0</th>\n",
       "      <td>Aigues-Mortes</td>\n",
       "      <td>298018344.0</td>\n",
       "      <td>43.565823</td>\n",
       "      <td>4.191284</td>\n",
       "      <td>8.769565</td>\n",
       "      <td>43.566611</td>\n",
       "      <td>4.190647</td>\n",
       "      <td>672.285714</td>\n",
       "      <td>1014.285714</td>\n",
       "      <td>62.714286</td>\n",
       "      <td>...</td>\n",
       "      <td>8.914286</td>\n",
       "      <td>13.670000</td>\n",
       "      <td>10.494286</td>\n",
       "      <td>11.688571</td>\n",
       "      <td>9.661429</td>\n",
       "      <td>11.980000</td>\n",
       "      <td>8.767143</td>\n",
       "      <td>10.367143</td>\n",
       "      <td>8.034286</td>\n",
       "      <td>12.012857</td>\n",
       "    </tr>\n",
       "    <tr>\n",
       "      <th>1</th>\n",
       "      <td>Aix-en-Provence</td>\n",
       "      <td>297906924.0</td>\n",
       "      <td>43.529842</td>\n",
       "      <td>5.447474</td>\n",
       "      <td>8.153333</td>\n",
       "      <td>43.527318</td>\n",
       "      <td>5.446230</td>\n",
       "      <td>672.428571</td>\n",
       "      <td>1012.571429</td>\n",
       "      <td>54.714286</td>\n",
       "      <td>...</td>\n",
       "      <td>8.384286</td>\n",
       "      <td>15.204286</td>\n",
       "      <td>10.165714</td>\n",
       "      <td>12.640000</td>\n",
       "      <td>8.924286</td>\n",
       "      <td>13.131429</td>\n",
       "      <td>9.304286</td>\n",
       "      <td>11.615714</td>\n",
       "      <td>8.064286</td>\n",
       "      <td>10.774286</td>\n",
       "    </tr>\n",
       "    <tr>\n",
       "      <th>10</th>\n",
       "      <td>Bormes-les-Mimosas</td>\n",
       "      <td>297749145.0</td>\n",
       "      <td>43.150697</td>\n",
       "      <td>6.341928</td>\n",
       "      <td>8.364706</td>\n",
       "      <td>43.149056</td>\n",
       "      <td>6.341032</td>\n",
       "      <td>716.285714</td>\n",
       "      <td>1013.000000</td>\n",
       "      <td>70.714286</td>\n",
       "      <td>...</td>\n",
       "      <td>9.422857</td>\n",
       "      <td>14.071429</td>\n",
       "      <td>10.071429</td>\n",
       "      <td>11.348571</td>\n",
       "      <td>10.307143</td>\n",
       "      <td>12.511429</td>\n",
       "      <td>9.275714</td>\n",
       "      <td>10.545714</td>\n",
       "      <td>9.371429</td>\n",
       "      <td>11.422857</td>\n",
       "    </tr>\n",
       "    <tr>\n",
       "      <th>12</th>\n",
       "      <td>Cassis</td>\n",
       "      <td>298072685.0</td>\n",
       "      <td>43.214036</td>\n",
       "      <td>5.539632</td>\n",
       "      <td>8.404167</td>\n",
       "      <td>43.215186</td>\n",
       "      <td>5.537372</td>\n",
       "      <td>716.000000</td>\n",
       "      <td>1012.857143</td>\n",
       "      <td>64.571429</td>\n",
       "      <td>...</td>\n",
       "      <td>10.757143</td>\n",
       "      <td>14.788571</td>\n",
       "      <td>11.907143</td>\n",
       "      <td>13.160000</td>\n",
       "      <td>11.472857</td>\n",
       "      <td>13.637143</td>\n",
       "      <td>11.357143</td>\n",
       "      <td>12.548571</td>\n",
       "      <td>10.745714</td>\n",
       "      <td>10.551429</td>\n",
       "    </tr>\n",
       "    <tr>\n",
       "      <th>27</th>\n",
       "      <td>Nîmes</td>\n",
       "      <td>297997049.0</td>\n",
       "      <td>43.837425</td>\n",
       "      <td>4.360069</td>\n",
       "      <td>8.309524</td>\n",
       "      <td>43.837314</td>\n",
       "      <td>4.360027</td>\n",
       "      <td>672.142857</td>\n",
       "      <td>1014.000000</td>\n",
       "      <td>59.000000</td>\n",
       "      <td>...</td>\n",
       "      <td>7.292857</td>\n",
       "      <td>14.515714</td>\n",
       "      <td>9.167143</td>\n",
       "      <td>11.547143</td>\n",
       "      <td>8.112857</td>\n",
       "      <td>12.047143</td>\n",
       "      <td>7.360000</td>\n",
       "      <td>9.681429</td>\n",
       "      <td>6.370000</td>\n",
       "      <td>11.861429</td>\n",
       "    </tr>\n",
       "  </tbody>\n",
       "</table>\n",
       "<p>5 rows × 30 columns</p>\n",
       "</div>"
      ],
      "text/plain": [
       "             city_name      city_id  city_latitude  city_longtitude     score  \\\n",
       "0        Aigues-Mortes  298018344.0      43.565823         4.191284  8.769565   \n",
       "1      Aix-en-Provence  297906924.0      43.529842         5.447474  8.153333   \n",
       "10  Bormes-les-Mimosas  297749145.0      43.150697         6.341928  8.364706   \n",
       "12              Cassis  298072685.0      43.214036         5.539632  8.404167   \n",
       "27               Nîmes  297997049.0      43.837425         4.360069  8.309524   \n",
       "\n",
       "    hotel_latitude  hotel_longtitude  weather_id     pressure   humidity  ...  \\\n",
       "0        43.566611          4.190647  672.285714  1014.285714  62.714286  ...   \n",
       "1        43.527318          5.446230  672.428571  1012.571429  54.714286  ...   \n",
       "10       43.149056          6.341032  716.285714  1013.000000  70.714286  ...   \n",
       "12       43.215186          5.537372  716.000000  1012.857143  64.571429  ...   \n",
       "27       43.837314          4.360027  672.142857  1014.000000  59.000000  ...   \n",
       "\n",
       "     temp_min   temp_max  temp_night   temp_eve  temp_morn  feels_like_day  \\\n",
       "0    8.914286  13.670000   10.494286  11.688571   9.661429       11.980000   \n",
       "1    8.384286  15.204286   10.165714  12.640000   8.924286       13.131429   \n",
       "10   9.422857  14.071429   10.071429  11.348571  10.307143       12.511429   \n",
       "12  10.757143  14.788571   11.907143  13.160000  11.472857       13.637143   \n",
       "27   7.292857  14.515714    9.167143  11.547143   8.112857       12.047143   \n",
       "\n",
       "    feels_like_night  feels_like_eve  feels_like_morn  dif_from_optimum  \n",
       "0           8.767143       10.367143         8.034286         12.012857  \n",
       "1           9.304286       11.615714         8.064286         10.774286  \n",
       "10          9.275714       10.545714         9.371429         11.422857  \n",
       "12         11.357143       12.548571        10.745714         10.551429  \n",
       "27          7.360000        9.681429         6.370000         11.861429  \n",
       "\n",
       "[5 rows x 30 columns]"
      ]
     },
     "execution_count": 6,
     "metadata": {},
     "output_type": "execute_result"
    }
   ],
   "source": [
    "weekly_forecast_by_city.loc[weekly_forecast_by_city['city_name'].isin(best_cities)]"
   ]
  },
  {
   "attachments": {},
   "cell_type": "markdown",
   "metadata": {},
   "source": [
    "Creating a map that will show where the cities with the best weather are situated."
   ]
  },
  {
   "cell_type": "code",
   "execution_count": 7,
   "metadata": {},
   "outputs": [
    {
     "data": {
      "application/vnd.plotly.v1+json": {
       "config": {
        "plotlyServerURL": "https://plot.ly"
       },
       "data": [
        {
         "hovertemplate": "<b>%{hovertext}</b><br><br>temp_day=%{marker.size}<br>city_latitude=%{lat}<br>city_longtitude=%{lon}<br>dif_from_optimum=%{marker.color}<extra></extra>",
         "hovertext": [
          "Aigues-Mortes",
          "Aix-en-Provence",
          "Bormes-les-Mimosas",
          "Cassis",
          "Nîmes"
         ],
         "lat": [
          43.5658225,
          43.5298424,
          43.1506968,
          43.2140359,
          43.8374249
         ],
         "legendgroup": "",
         "lon": [
          4.1912837,
          5.4474738,
          6.3419285,
          5.5396318,
          4.3600687
         ],
         "marker": {
          "color": [
           12.012857142857143,
           10.774285714285716,
           11.422857142857143,
           10.551428571428572,
           11.861428571428572
          ],
          "coloraxis": "coloraxis",
          "size": [
           12.987142857142857,
           14.225714285714284,
           13.577142857142857,
           14.448571428571428,
           13.138571428571428
          ],
          "sizemode": "area",
          "sizeref": 0.03612142857142857
         },
         "mode": "markers",
         "name": "",
         "showlegend": false,
         "subplot": "mapbox",
         "type": "scattermapbox"
        }
       ],
       "layout": {
        "coloraxis": {
         "colorbar": {
          "title": {
           "text": "dif_from_optimum"
          }
         },
         "colorscale": [
          [
           0,
           "rgb(255,0,0)"
          ],
          [
           1,
           "rgb(0,0,255)"
          ]
         ]
        },
        "legend": {
         "itemsizing": "constant",
         "tracegroupgap": 0
        },
        "mapbox": {
         "center": {
          "lat": 43.4595645,
          "lon": 5.1760773
         },
         "domain": {
          "x": [
           0,
           1
          ],
          "y": [
           0,
           1
          ]
         },
         "style": "open-street-map",
         "zoom": 4
        },
        "margin": {
         "t": 60
        },
        "template": {
         "data": {
          "bar": [
           {
            "error_x": {
             "color": "#2a3f5f"
            },
            "error_y": {
             "color": "#2a3f5f"
            },
            "marker": {
             "line": {
              "color": "#E5ECF6",
              "width": 0.5
             },
             "pattern": {
              "fillmode": "overlay",
              "size": 10,
              "solidity": 0.2
             }
            },
            "type": "bar"
           }
          ],
          "barpolar": [
           {
            "marker": {
             "line": {
              "color": "#E5ECF6",
              "width": 0.5
             },
             "pattern": {
              "fillmode": "overlay",
              "size": 10,
              "solidity": 0.2
             }
            },
            "type": "barpolar"
           }
          ],
          "carpet": [
           {
            "aaxis": {
             "endlinecolor": "#2a3f5f",
             "gridcolor": "white",
             "linecolor": "white",
             "minorgridcolor": "white",
             "startlinecolor": "#2a3f5f"
            },
            "baxis": {
             "endlinecolor": "#2a3f5f",
             "gridcolor": "white",
             "linecolor": "white",
             "minorgridcolor": "white",
             "startlinecolor": "#2a3f5f"
            },
            "type": "carpet"
           }
          ],
          "choropleth": [
           {
            "colorbar": {
             "outlinewidth": 0,
             "ticks": ""
            },
            "type": "choropleth"
           }
          ],
          "contour": [
           {
            "colorbar": {
             "outlinewidth": 0,
             "ticks": ""
            },
            "colorscale": [
             [
              0,
              "#0d0887"
             ],
             [
              0.1111111111111111,
              "#46039f"
             ],
             [
              0.2222222222222222,
              "#7201a8"
             ],
             [
              0.3333333333333333,
              "#9c179e"
             ],
             [
              0.4444444444444444,
              "#bd3786"
             ],
             [
              0.5555555555555556,
              "#d8576b"
             ],
             [
              0.6666666666666666,
              "#ed7953"
             ],
             [
              0.7777777777777778,
              "#fb9f3a"
             ],
             [
              0.8888888888888888,
              "#fdca26"
             ],
             [
              1,
              "#f0f921"
             ]
            ],
            "type": "contour"
           }
          ],
          "contourcarpet": [
           {
            "colorbar": {
             "outlinewidth": 0,
             "ticks": ""
            },
            "type": "contourcarpet"
           }
          ],
          "heatmap": [
           {
            "colorbar": {
             "outlinewidth": 0,
             "ticks": ""
            },
            "colorscale": [
             [
              0,
              "#0d0887"
             ],
             [
              0.1111111111111111,
              "#46039f"
             ],
             [
              0.2222222222222222,
              "#7201a8"
             ],
             [
              0.3333333333333333,
              "#9c179e"
             ],
             [
              0.4444444444444444,
              "#bd3786"
             ],
             [
              0.5555555555555556,
              "#d8576b"
             ],
             [
              0.6666666666666666,
              "#ed7953"
             ],
             [
              0.7777777777777778,
              "#fb9f3a"
             ],
             [
              0.8888888888888888,
              "#fdca26"
             ],
             [
              1,
              "#f0f921"
             ]
            ],
            "type": "heatmap"
           }
          ],
          "heatmapgl": [
           {
            "colorbar": {
             "outlinewidth": 0,
             "ticks": ""
            },
            "colorscale": [
             [
              0,
              "#0d0887"
             ],
             [
              0.1111111111111111,
              "#46039f"
             ],
             [
              0.2222222222222222,
              "#7201a8"
             ],
             [
              0.3333333333333333,
              "#9c179e"
             ],
             [
              0.4444444444444444,
              "#bd3786"
             ],
             [
              0.5555555555555556,
              "#d8576b"
             ],
             [
              0.6666666666666666,
              "#ed7953"
             ],
             [
              0.7777777777777778,
              "#fb9f3a"
             ],
             [
              0.8888888888888888,
              "#fdca26"
             ],
             [
              1,
              "#f0f921"
             ]
            ],
            "type": "heatmapgl"
           }
          ],
          "histogram": [
           {
            "marker": {
             "pattern": {
              "fillmode": "overlay",
              "size": 10,
              "solidity": 0.2
             }
            },
            "type": "histogram"
           }
          ],
          "histogram2d": [
           {
            "colorbar": {
             "outlinewidth": 0,
             "ticks": ""
            },
            "colorscale": [
             [
              0,
              "#0d0887"
             ],
             [
              0.1111111111111111,
              "#46039f"
             ],
             [
              0.2222222222222222,
              "#7201a8"
             ],
             [
              0.3333333333333333,
              "#9c179e"
             ],
             [
              0.4444444444444444,
              "#bd3786"
             ],
             [
              0.5555555555555556,
              "#d8576b"
             ],
             [
              0.6666666666666666,
              "#ed7953"
             ],
             [
              0.7777777777777778,
              "#fb9f3a"
             ],
             [
              0.8888888888888888,
              "#fdca26"
             ],
             [
              1,
              "#f0f921"
             ]
            ],
            "type": "histogram2d"
           }
          ],
          "histogram2dcontour": [
           {
            "colorbar": {
             "outlinewidth": 0,
             "ticks": ""
            },
            "colorscale": [
             [
              0,
              "#0d0887"
             ],
             [
              0.1111111111111111,
              "#46039f"
             ],
             [
              0.2222222222222222,
              "#7201a8"
             ],
             [
              0.3333333333333333,
              "#9c179e"
             ],
             [
              0.4444444444444444,
              "#bd3786"
             ],
             [
              0.5555555555555556,
              "#d8576b"
             ],
             [
              0.6666666666666666,
              "#ed7953"
             ],
             [
              0.7777777777777778,
              "#fb9f3a"
             ],
             [
              0.8888888888888888,
              "#fdca26"
             ],
             [
              1,
              "#f0f921"
             ]
            ],
            "type": "histogram2dcontour"
           }
          ],
          "mesh3d": [
           {
            "colorbar": {
             "outlinewidth": 0,
             "ticks": ""
            },
            "type": "mesh3d"
           }
          ],
          "parcoords": [
           {
            "line": {
             "colorbar": {
              "outlinewidth": 0,
              "ticks": ""
             }
            },
            "type": "parcoords"
           }
          ],
          "pie": [
           {
            "automargin": true,
            "type": "pie"
           }
          ],
          "scatter": [
           {
            "fillpattern": {
             "fillmode": "overlay",
             "size": 10,
             "solidity": 0.2
            },
            "type": "scatter"
           }
          ],
          "scatter3d": [
           {
            "line": {
             "colorbar": {
              "outlinewidth": 0,
              "ticks": ""
             }
            },
            "marker": {
             "colorbar": {
              "outlinewidth": 0,
              "ticks": ""
             }
            },
            "type": "scatter3d"
           }
          ],
          "scattercarpet": [
           {
            "marker": {
             "colorbar": {
              "outlinewidth": 0,
              "ticks": ""
             }
            },
            "type": "scattercarpet"
           }
          ],
          "scattergeo": [
           {
            "marker": {
             "colorbar": {
              "outlinewidth": 0,
              "ticks": ""
             }
            },
            "type": "scattergeo"
           }
          ],
          "scattergl": [
           {
            "marker": {
             "colorbar": {
              "outlinewidth": 0,
              "ticks": ""
             }
            },
            "type": "scattergl"
           }
          ],
          "scattermapbox": [
           {
            "marker": {
             "colorbar": {
              "outlinewidth": 0,
              "ticks": ""
             }
            },
            "type": "scattermapbox"
           }
          ],
          "scatterpolar": [
           {
            "marker": {
             "colorbar": {
              "outlinewidth": 0,
              "ticks": ""
             }
            },
            "type": "scatterpolar"
           }
          ],
          "scatterpolargl": [
           {
            "marker": {
             "colorbar": {
              "outlinewidth": 0,
              "ticks": ""
             }
            },
            "type": "scatterpolargl"
           }
          ],
          "scatterternary": [
           {
            "marker": {
             "colorbar": {
              "outlinewidth": 0,
              "ticks": ""
             }
            },
            "type": "scatterternary"
           }
          ],
          "surface": [
           {
            "colorbar": {
             "outlinewidth": 0,
             "ticks": ""
            },
            "colorscale": [
             [
              0,
              "#0d0887"
             ],
             [
              0.1111111111111111,
              "#46039f"
             ],
             [
              0.2222222222222222,
              "#7201a8"
             ],
             [
              0.3333333333333333,
              "#9c179e"
             ],
             [
              0.4444444444444444,
              "#bd3786"
             ],
             [
              0.5555555555555556,
              "#d8576b"
             ],
             [
              0.6666666666666666,
              "#ed7953"
             ],
             [
              0.7777777777777778,
              "#fb9f3a"
             ],
             [
              0.8888888888888888,
              "#fdca26"
             ],
             [
              1,
              "#f0f921"
             ]
            ],
            "type": "surface"
           }
          ],
          "table": [
           {
            "cells": {
             "fill": {
              "color": "#EBF0F8"
             },
             "line": {
              "color": "white"
             }
            },
            "header": {
             "fill": {
              "color": "#C8D4E3"
             },
             "line": {
              "color": "white"
             }
            },
            "type": "table"
           }
          ]
         },
         "layout": {
          "annotationdefaults": {
           "arrowcolor": "#2a3f5f",
           "arrowhead": 0,
           "arrowwidth": 1
          },
          "autotypenumbers": "strict",
          "coloraxis": {
           "colorbar": {
            "outlinewidth": 0,
            "ticks": ""
           }
          },
          "colorscale": {
           "diverging": [
            [
             0,
             "#8e0152"
            ],
            [
             0.1,
             "#c51b7d"
            ],
            [
             0.2,
             "#de77ae"
            ],
            [
             0.3,
             "#f1b6da"
            ],
            [
             0.4,
             "#fde0ef"
            ],
            [
             0.5,
             "#f7f7f7"
            ],
            [
             0.6,
             "#e6f5d0"
            ],
            [
             0.7,
             "#b8e186"
            ],
            [
             0.8,
             "#7fbc41"
            ],
            [
             0.9,
             "#4d9221"
            ],
            [
             1,
             "#276419"
            ]
           ],
           "sequential": [
            [
             0,
             "#0d0887"
            ],
            [
             0.1111111111111111,
             "#46039f"
            ],
            [
             0.2222222222222222,
             "#7201a8"
            ],
            [
             0.3333333333333333,
             "#9c179e"
            ],
            [
             0.4444444444444444,
             "#bd3786"
            ],
            [
             0.5555555555555556,
             "#d8576b"
            ],
            [
             0.6666666666666666,
             "#ed7953"
            ],
            [
             0.7777777777777778,
             "#fb9f3a"
            ],
            [
             0.8888888888888888,
             "#fdca26"
            ],
            [
             1,
             "#f0f921"
            ]
           ],
           "sequentialminus": [
            [
             0,
             "#0d0887"
            ],
            [
             0.1111111111111111,
             "#46039f"
            ],
            [
             0.2222222222222222,
             "#7201a8"
            ],
            [
             0.3333333333333333,
             "#9c179e"
            ],
            [
             0.4444444444444444,
             "#bd3786"
            ],
            [
             0.5555555555555556,
             "#d8576b"
            ],
            [
             0.6666666666666666,
             "#ed7953"
            ],
            [
             0.7777777777777778,
             "#fb9f3a"
            ],
            [
             0.8888888888888888,
             "#fdca26"
            ],
            [
             1,
             "#f0f921"
            ]
           ]
          },
          "colorway": [
           "#636efa",
           "#EF553B",
           "#00cc96",
           "#ab63fa",
           "#FFA15A",
           "#19d3f3",
           "#FF6692",
           "#B6E880",
           "#FF97FF",
           "#FECB52"
          ],
          "font": {
           "color": "#2a3f5f"
          },
          "geo": {
           "bgcolor": "white",
           "lakecolor": "white",
           "landcolor": "#E5ECF6",
           "showlakes": true,
           "showland": true,
           "subunitcolor": "white"
          },
          "hoverlabel": {
           "align": "left"
          },
          "hovermode": "closest",
          "mapbox": {
           "style": "light"
          },
          "paper_bgcolor": "white",
          "plot_bgcolor": "#E5ECF6",
          "polar": {
           "angularaxis": {
            "gridcolor": "white",
            "linecolor": "white",
            "ticks": ""
           },
           "bgcolor": "#E5ECF6",
           "radialaxis": {
            "gridcolor": "white",
            "linecolor": "white",
            "ticks": ""
           }
          },
          "scene": {
           "xaxis": {
            "backgroundcolor": "#E5ECF6",
            "gridcolor": "white",
            "gridwidth": 2,
            "linecolor": "white",
            "showbackground": true,
            "ticks": "",
            "zerolinecolor": "white"
           },
           "yaxis": {
            "backgroundcolor": "#E5ECF6",
            "gridcolor": "white",
            "gridwidth": 2,
            "linecolor": "white",
            "showbackground": true,
            "ticks": "",
            "zerolinecolor": "white"
           },
           "zaxis": {
            "backgroundcolor": "#E5ECF6",
            "gridcolor": "white",
            "gridwidth": 2,
            "linecolor": "white",
            "showbackground": true,
            "ticks": "",
            "zerolinecolor": "white"
           }
          },
          "shapedefaults": {
           "line": {
            "color": "#2a3f5f"
           }
          },
          "ternary": {
           "aaxis": {
            "gridcolor": "white",
            "linecolor": "white",
            "ticks": ""
           },
           "baxis": {
            "gridcolor": "white",
            "linecolor": "white",
            "ticks": ""
           },
           "bgcolor": "#E5ECF6",
           "caxis": {
            "gridcolor": "white",
            "linecolor": "white",
            "ticks": ""
           }
          },
          "title": {
           "x": 0.05
          },
          "xaxis": {
           "automargin": true,
           "gridcolor": "white",
           "linecolor": "white",
           "ticks": "",
           "title": {
            "standoff": 15
           },
           "zerolinecolor": "white",
           "zerolinewidth": 2
          },
          "yaxis": {
           "automargin": true,
           "gridcolor": "white",
           "linecolor": "white",
           "ticks": "",
           "title": {
            "standoff": 15
           },
           "zerolinecolor": "white",
           "zerolinewidth": 2
          }
         }
        }
       }
      }
     },
     "metadata": {},
     "output_type": "display_data"
    }
   ],
   "source": [
    "fig = px.scatter_mapbox(weekly_forecast_by_city.loc[weekly_forecast_by_city['city_name'].isin(best_cities)], \n",
    "                        lat=\"city_latitude\", lon=\"city_longtitude\", color_continuous_scale=px.colors.sequential.Bluered_r,\n",
    "                        hover_name=\"city_name\", size = \"temp_day\", color=\"dif_from_optimum\", zoom=4, mapbox_style=\"open-street-map\")\n",
    "fig.show()"
   ]
  },
  {
   "attachments": {},
   "cell_type": "markdown",
   "metadata": {},
   "source": [
    "Among the hotels situated in 5 best cities, let us choose 20 hotels with the best scores."
   ]
  },
  {
   "cell_type": "code",
   "execution_count": 8,
   "metadata": {},
   "outputs": [
    {
     "data": {
      "text/html": [
       "<div>\n",
       "<style scoped>\n",
       "    .dataframe tbody tr th:only-of-type {\n",
       "        vertical-align: middle;\n",
       "    }\n",
       "\n",
       "    .dataframe tbody tr th {\n",
       "        vertical-align: top;\n",
       "    }\n",
       "\n",
       "    .dataframe thead th {\n",
       "        text-align: right;\n",
       "    }\n",
       "</style>\n",
       "<table border=\"1\" class=\"dataframe\">\n",
       "  <thead>\n",
       "    <tr style=\"text-align: right;\">\n",
       "      <th></th>\n",
       "      <th>hotel_name</th>\n",
       "      <th>city_id</th>\n",
       "      <th>city_latitude</th>\n",
       "      <th>city_longtitude</th>\n",
       "      <th>score</th>\n",
       "      <th>hotel_latitude</th>\n",
       "      <th>hotel_longtitude</th>\n",
       "      <th>weather_id</th>\n",
       "      <th>pressure</th>\n",
       "      <th>humidity</th>\n",
       "      <th>...</th>\n",
       "      <th>temp_day</th>\n",
       "      <th>temp_min</th>\n",
       "      <th>temp_max</th>\n",
       "      <th>temp_night</th>\n",
       "      <th>temp_eve</th>\n",
       "      <th>temp_morn</th>\n",
       "      <th>feels_like_day</th>\n",
       "      <th>feels_like_night</th>\n",
       "      <th>feels_like_eve</th>\n",
       "      <th>feels_like_morn</th>\n",
       "    </tr>\n",
       "  </thead>\n",
       "  <tbody>\n",
       "    <tr>\n",
       "      <th>0</th>\n",
       "      <td>Lilie House</td>\n",
       "      <td>297749145.0</td>\n",
       "      <td>43.150697</td>\n",
       "      <td>6.341928</td>\n",
       "      <td>10.0</td>\n",
       "      <td>43.150903</td>\n",
       "      <td>6.341933</td>\n",
       "      <td>716.285714</td>\n",
       "      <td>1013.000000</td>\n",
       "      <td>70.714286</td>\n",
       "      <td>...</td>\n",
       "      <td>13.577143</td>\n",
       "      <td>9.422857</td>\n",
       "      <td>14.071429</td>\n",
       "      <td>10.071429</td>\n",
       "      <td>11.348571</td>\n",
       "      <td>10.307143</td>\n",
       "      <td>12.511429</td>\n",
       "      <td>9.275714</td>\n",
       "      <td>10.545714</td>\n",
       "      <td>9.371429</td>\n",
       "    </tr>\n",
       "    <tr>\n",
       "      <th>1</th>\n",
       "      <td>Crocoloft, proche arènes, loft cosy dans l'écu...</td>\n",
       "      <td>297997049.0</td>\n",
       "      <td>43.837425</td>\n",
       "      <td>4.360069</td>\n",
       "      <td>10.0</td>\n",
       "      <td>43.836461</td>\n",
       "      <td>4.359274</td>\n",
       "      <td>672.142857</td>\n",
       "      <td>1014.000000</td>\n",
       "      <td>59.000000</td>\n",
       "      <td>...</td>\n",
       "      <td>13.138571</td>\n",
       "      <td>7.292857</td>\n",
       "      <td>14.515714</td>\n",
       "      <td>9.167143</td>\n",
       "      <td>11.547143</td>\n",
       "      <td>8.112857</td>\n",
       "      <td>12.047143</td>\n",
       "      <td>7.360000</td>\n",
       "      <td>9.681429</td>\n",
       "      <td>6.370000</td>\n",
       "    </tr>\n",
       "    <tr>\n",
       "      <th>2</th>\n",
       "      <td>CALANQUE DE PORT PIN</td>\n",
       "      <td>298072685.0</td>\n",
       "      <td>43.214036</td>\n",
       "      <td>5.539632</td>\n",
       "      <td>10.0</td>\n",
       "      <td>43.214591</td>\n",
       "      <td>5.537868</td>\n",
       "      <td>716.000000</td>\n",
       "      <td>1012.857143</td>\n",
       "      <td>64.571429</td>\n",
       "      <td>...</td>\n",
       "      <td>14.448571</td>\n",
       "      <td>10.757143</td>\n",
       "      <td>14.788571</td>\n",
       "      <td>11.907143</td>\n",
       "      <td>13.160000</td>\n",
       "      <td>11.472857</td>\n",
       "      <td>13.637143</td>\n",
       "      <td>11.357143</td>\n",
       "      <td>12.548571</td>\n",
       "      <td>10.745714</td>\n",
       "    </tr>\n",
       "    <tr>\n",
       "      <th>3</th>\n",
       "      <td>Marcelle en Camargue</td>\n",
       "      <td>298018344.0</td>\n",
       "      <td>43.565823</td>\n",
       "      <td>4.191284</td>\n",
       "      <td>9.9</td>\n",
       "      <td>43.566156</td>\n",
       "      <td>4.192345</td>\n",
       "      <td>672.285714</td>\n",
       "      <td>1014.285714</td>\n",
       "      <td>62.714286</td>\n",
       "      <td>...</td>\n",
       "      <td>12.987143</td>\n",
       "      <td>8.914286</td>\n",
       "      <td>13.670000</td>\n",
       "      <td>10.494286</td>\n",
       "      <td>11.688571</td>\n",
       "      <td>9.661429</td>\n",
       "      <td>11.980000</td>\n",
       "      <td>8.767143</td>\n",
       "      <td>10.367143</td>\n",
       "      <td>8.034286</td>\n",
       "    </tr>\n",
       "    <tr>\n",
       "      <th>4</th>\n",
       "      <td>Le Domus Arena quartier arènes avec garage</td>\n",
       "      <td>297997049.0</td>\n",
       "      <td>43.837425</td>\n",
       "      <td>4.360069</td>\n",
       "      <td>9.8</td>\n",
       "      <td>43.836014</td>\n",
       "      <td>4.359911</td>\n",
       "      <td>672.142857</td>\n",
       "      <td>1014.000000</td>\n",
       "      <td>59.000000</td>\n",
       "      <td>...</td>\n",
       "      <td>13.138571</td>\n",
       "      <td>7.292857</td>\n",
       "      <td>14.515714</td>\n",
       "      <td>9.167143</td>\n",
       "      <td>11.547143</td>\n",
       "      <td>8.112857</td>\n",
       "      <td>12.047143</td>\n",
       "      <td>7.360000</td>\n",
       "      <td>9.681429</td>\n",
       "      <td>6.370000</td>\n",
       "    </tr>\n",
       "  </tbody>\n",
       "</table>\n",
       "<p>5 rows × 29 columns</p>\n",
       "</div>"
      ],
      "text/plain": [
       "                                          hotel_name      city_id  \\\n",
       "0                                        Lilie House  297749145.0   \n",
       "1  Crocoloft, proche arènes, loft cosy dans l'écu...  297997049.0   \n",
       "2                               CALANQUE DE PORT PIN  298072685.0   \n",
       "3                               Marcelle en Camargue  298018344.0   \n",
       "4         Le Domus Arena quartier arènes avec garage  297997049.0   \n",
       "\n",
       "   city_latitude  city_longtitude  score  hotel_latitude  hotel_longtitude  \\\n",
       "0      43.150697         6.341928   10.0       43.150903          6.341933   \n",
       "1      43.837425         4.360069   10.0       43.836461          4.359274   \n",
       "2      43.214036         5.539632   10.0       43.214591          5.537868   \n",
       "3      43.565823         4.191284    9.9       43.566156          4.192345   \n",
       "4      43.837425         4.360069    9.8       43.836014          4.359911   \n",
       "\n",
       "   weather_id     pressure   humidity  ...   temp_day   temp_min   temp_max  \\\n",
       "0  716.285714  1013.000000  70.714286  ...  13.577143   9.422857  14.071429   \n",
       "1  672.142857  1014.000000  59.000000  ...  13.138571   7.292857  14.515714   \n",
       "2  716.000000  1012.857143  64.571429  ...  14.448571  10.757143  14.788571   \n",
       "3  672.285714  1014.285714  62.714286  ...  12.987143   8.914286  13.670000   \n",
       "4  672.142857  1014.000000  59.000000  ...  13.138571   7.292857  14.515714   \n",
       "\n",
       "   temp_night   temp_eve  temp_morn  feels_like_day  feels_like_night  \\\n",
       "0   10.071429  11.348571  10.307143       12.511429          9.275714   \n",
       "1    9.167143  11.547143   8.112857       12.047143          7.360000   \n",
       "2   11.907143  13.160000  11.472857       13.637143         11.357143   \n",
       "3   10.494286  11.688571   9.661429       11.980000          8.767143   \n",
       "4    9.167143  11.547143   8.112857       12.047143          7.360000   \n",
       "\n",
       "   feels_like_eve  feels_like_morn  \n",
       "0       10.545714         9.371429  \n",
       "1        9.681429         6.370000  \n",
       "2       12.548571        10.745714  \n",
       "3       10.367143         8.034286  \n",
       "4        9.681429         6.370000  \n",
       "\n",
       "[5 rows x 29 columns]"
      ]
     },
     "execution_count": 8,
     "metadata": {},
     "output_type": "execute_result"
    }
   ],
   "source": [
    "best_hotels_df = kayak_df[kayak_df['city_name'].isin(best_cities)].groupby(['hotel_name']).mean(numeric_only=True).sort_values(by=['score'], ascending=False).reset_index()[:20]\n",
    "best_hotels_df.head()"
   ]
  },
  {
   "cell_type": "code",
   "execution_count": 9,
   "metadata": {},
   "outputs": [
    {
     "data": {
      "text/plain": [
       "['Lilie House',\n",
       " \"Crocoloft, proche arènes, loft cosy dans l'écusson\",\n",
       " 'CALANQUE DE PORT PIN',\n",
       " 'Marcelle en Camargue',\n",
       " 'Le Domus Arena quartier arènes avec garage']"
      ]
     },
     "execution_count": 9,
     "metadata": {},
     "output_type": "execute_result"
    }
   ],
   "source": [
    "best_hotels = best_hotels_df[\"hotel_name\"].tolist()\n",
    "\n",
    "# Displaying names of 5 hotels with the best score\n",
    "best_hotels[:5]"
   ]
  },
  {
   "attachments": {},
   "cell_type": "markdown",
   "metadata": {},
   "source": [
    "Creating a map that shows top-20 hotels in the area"
   ]
  },
  {
   "cell_type": "code",
   "execution_count": 10,
   "metadata": {},
   "outputs": [
    {
     "data": {
      "application/vnd.plotly.v1+json": {
       "config": {
        "plotlyServerURL": "https://plot.ly"
       },
       "data": [
        {
         "hovertemplate": "<b>%{hovertext}</b><br><br>score=%{marker.color}<br>hotel_latitude=%{lat}<br>hotel_longtitude=%{lon}<extra></extra>",
         "hovertext": [
          "Péniche DJEBELLE",
          "Péniche DJEBELLE",
          "Péniche DJEBELLE",
          "Péniche DJEBELLE",
          "Péniche DJEBELLE",
          "Péniche DJEBELLE",
          "Péniche DJEBELLE",
          "Euskal etxea",
          "Euskal etxea",
          "Euskal etxea",
          "Euskal etxea",
          "Euskal etxea",
          "Euskal etxea",
          "Euskal etxea",
          "Les deux mas",
          "Les deux mas",
          "Les deux mas",
          "Les deux mas",
          "Les deux mas",
          "Les deux mas",
          "Les deux mas",
          "Maison de charme près de la mer",
          "Maison de charme près de la mer",
          "Maison de charme près de la mer",
          "Maison de charme près de la mer",
          "Maison de charme près de la mer",
          "Maison de charme près de la mer",
          "Maison de charme près de la mer",
          "Auberge du dom",
          "Auberge du dom",
          "Auberge du dom",
          "Auberge du dom",
          "Auberge du dom",
          "Auberge du dom",
          "Auberge du dom",
          "L'appart Isa&Marc T2 avec rez-de-jardin (bus aéroport) tout équipé pour 4 personnes;",
          "L'appart Isa&Marc T2 avec rez-de-jardin (bus aéroport) tout équipé pour 4 personnes;",
          "L'appart Isa&Marc T2 avec rez-de-jardin (bus aéroport) tout équipé pour 4 personnes;",
          "L'appart Isa&Marc T2 avec rez-de-jardin (bus aéroport) tout équipé pour 4 personnes;",
          "L'appart Isa&Marc T2 avec rez-de-jardin (bus aéroport) tout équipé pour 4 personnes;",
          "L'appart Isa&Marc T2 avec rez-de-jardin (bus aéroport) tout équipé pour 4 personnes;",
          "L'appart Isa&Marc T2 avec rez-de-jardin (bus aéroport) tout équipé pour 4 personnes;",
          "HomeStay Bormes",
          "HomeStay Bormes",
          "HomeStay Bormes",
          "HomeStay Bormes",
          "HomeStay Bormes",
          "HomeStay Bormes",
          "HomeStay Bormes",
          "SELECT'SO HOME - Résidence Le Bella Vista - Piscine sur le toit et vue panoramique - Prestations de qualité & Services Hôteliers - BV04B",
          "SELECT'SO HOME - Résidence Le Bella Vista - Piscine sur le toit et vue panoramique - Prestations de qualité & Services Hôteliers - BV04B",
          "SELECT'SO HOME - Résidence Le Bella Vista - Piscine sur le toit et vue panoramique - Prestations de qualité & Services Hôteliers - BV04B",
          "SELECT'SO HOME - Résidence Le Bella Vista - Piscine sur le toit et vue panoramique - Prestations de qualité & Services Hôteliers - BV04B",
          "SELECT'SO HOME - Résidence Le Bella Vista - Piscine sur le toit et vue panoramique - Prestations de qualité & Services Hôteliers - BV04B",
          "SELECT'SO HOME - Résidence Le Bella Vista - Piscine sur le toit et vue panoramique - Prestations de qualité & Services Hôteliers - BV04B",
          "SELECT'SO HOME - Résidence Le Bella Vista - Piscine sur le toit et vue panoramique - Prestations de qualité & Services Hôteliers - BV04B",
          "Hotel de La Plage - Nouvel Etablissement",
          "Hotel de La Plage - Nouvel Etablissement",
          "Hotel de La Plage - Nouvel Etablissement",
          "Hotel de La Plage - Nouvel Etablissement",
          "Hotel de La Plage - Nouvel Etablissement",
          "Hotel de La Plage - Nouvel Etablissement",
          "Hotel de La Plage - Nouvel Etablissement",
          "VILLA MARGA",
          "VILLA MARGA",
          "VILLA MARGA",
          "VILLA MARGA",
          "VILLA MARGA",
          "VILLA MARGA",
          "VILLA MARGA",
          "Hôtel Au Bon Coin",
          "Hôtel Au Bon Coin",
          "Hôtel Au Bon Coin",
          "Hôtel Au Bon Coin",
          "Hôtel Au Bon Coin",
          "Hôtel Au Bon Coin",
          "Hôtel Au Bon Coin",
          "Plage & Calanques Cassis",
          "Plage & Calanques Cassis",
          "Plage & Calanques Cassis",
          "Plage & Calanques Cassis",
          "Plage & Calanques Cassis",
          "Plage & Calanques Cassis",
          "Plage & Calanques Cassis",
          "La douceur de Cassis",
          "La douceur de Cassis",
          "La douceur de Cassis",
          "La douceur de Cassis",
          "La douceur de Cassis",
          "La douceur de Cassis",
          "La douceur de Cassis",
          "SunSet Cassis",
          "SunSet Cassis",
          "SunSet Cassis",
          "SunSet Cassis",
          "SunSet Cassis",
          "SunSet Cassis",
          "SunSet Cassis",
          "Chambre d'hôtes Clos du Petit Jésus",
          "Chambre d'hôtes Clos du Petit Jésus",
          "Chambre d'hôtes Clos du Petit Jésus",
          "Chambre d'hôtes Clos du Petit Jésus",
          "Chambre d'hôtes Clos du Petit Jésus",
          "Chambre d'hôtes Clos du Petit Jésus",
          "Chambre d'hôtes Clos du Petit Jésus",
          "Les Suites de Collioure",
          "Les Suites de Collioure",
          "Les Suites de Collioure",
          "Les Suites de Collioure",
          "Les Suites de Collioure",
          "Les Suites de Collioure",
          "Les Suites de Collioure",
          "Appartement Sous le Soleil",
          "Appartement Sous le Soleil",
          "Appartement Sous le Soleil",
          "Appartement Sous le Soleil",
          "Appartement Sous le Soleil",
          "Appartement Sous le Soleil",
          "Appartement Sous le Soleil",
          "Au coeur de Collioure",
          "Au coeur de Collioure",
          "Au coeur de Collioure",
          "Au coeur de Collioure",
          "Au coeur de Collioure",
          "Au coeur de Collioure",
          "Au coeur de Collioure",
          "Les mimosas",
          "Les mimosas",
          "Les mimosas",
          "Les mimosas",
          "Les mimosas",
          "Les mimosas",
          "Les mimosas",
          "Fenêtre sur Collioure",
          "Fenêtre sur Collioure",
          "Fenêtre sur Collioure",
          "Fenêtre sur Collioure",
          "Fenêtre sur Collioure",
          "Fenêtre sur Collioure",
          "Fenêtre sur Collioure"
         ],
         "lat": [
          43.496335,
          43.496335,
          43.496335,
          43.496335,
          43.496335,
          43.496335,
          43.496335,
          43.4872203,
          43.4872203,
          43.4872203,
          43.4872203,
          43.4872203,
          43.4872203,
          43.4872203,
          43.14393659,
          43.14393659,
          43.14393659,
          43.14393659,
          43.14393659,
          43.14393659,
          43.14393659,
          43.10442849,
          43.10442849,
          43.10442849,
          43.10442849,
          43.10442849,
          43.10442849,
          43.10442849,
          43.19686,
          43.19686,
          43.19686,
          43.19686,
          43.19686,
          43.19686,
          43.19686,
          43.14450993,
          43.14450993,
          43.14450993,
          43.14450993,
          43.14450993,
          43.14450993,
          43.14450993,
          43.146445,
          43.146445,
          43.146445,
          43.146445,
          43.146445,
          43.146445,
          43.146445,
          43.123106,
          43.123106,
          43.123106,
          43.123106,
          43.123106,
          43.123106,
          43.123106,
          43.48213327,
          43.48213327,
          43.48213327,
          43.48213327,
          43.48213327,
          43.48213327,
          43.48213327,
          43.4823427,
          43.4823427,
          43.4823427,
          43.4823427,
          43.4823427,
          43.4823427,
          43.4823427,
          43.4821737,
          43.4821737,
          43.4821737,
          43.4821737,
          43.4821737,
          43.4821737,
          43.4821737,
          43.2120018,
          43.2120018,
          43.2120018,
          43.2120018,
          43.2120018,
          43.2120018,
          43.2120018,
          43.215009,
          43.215009,
          43.215009,
          43.215009,
          43.215009,
          43.215009,
          43.215009,
          43.215456,
          43.215456,
          43.215456,
          43.215456,
          43.215456,
          43.215456,
          43.215456,
          43.21524569,
          43.21524569,
          43.21524569,
          43.21524569,
          43.21524569,
          43.21524569,
          43.21524569,
          42.52439,
          42.52439,
          42.52439,
          42.52439,
          42.52439,
          42.52439,
          42.52439,
          42.5271222,
          42.5271222,
          42.5271222,
          42.5271222,
          42.5271222,
          42.5271222,
          42.5271222,
          42.5273935,
          42.5273935,
          42.5273935,
          42.5273935,
          42.5273935,
          42.5273935,
          42.5273935,
          42.5243249,
          42.5243249,
          42.5243249,
          42.5243249,
          42.5243249,
          42.5243249,
          42.5243249,
          42.52709583,
          42.52709583,
          42.52709583,
          42.52709583,
          42.52709583,
          42.52709583,
          42.52709583
         ],
         "legendgroup": "",
         "lon": [
          -1.473749,
          -1.473749,
          -1.473749,
          -1.473749,
          -1.473749,
          -1.473749,
          -1.473749,
          -1.4658403,
          -1.4658403,
          -1.4658403,
          -1.4658403,
          -1.4658403,
          -1.4658403,
          -1.4658403,
          6.33632324,
          6.33632324,
          6.33632324,
          6.33632324,
          6.33632324,
          6.33632324,
          6.33632324,
          6.32984154,
          6.32984154,
          6.32984154,
          6.32984154,
          6.32984154,
          6.32984154,
          6.32984154,
          6.3870056,
          6.3870056,
          6.3870056,
          6.3870056,
          6.3870056,
          6.3870056,
          6.3870056,
          6.33768565,
          6.33768565,
          6.33768565,
          6.33768565,
          6.33768565,
          6.33768565,
          6.33768565,
          6.327724,
          6.327724,
          6.327724,
          6.327724,
          6.327724,
          6.327724,
          6.327724,
          6.354528,
          6.354528,
          6.354528,
          6.354528,
          6.354528,
          6.354528,
          6.354528,
          -1.56753056,
          -1.56753056,
          -1.56753056,
          -1.56753056,
          -1.56753056,
          -1.56753056,
          -1.56753056,
          -1.5543166,
          -1.5543166,
          -1.5543166,
          -1.5543166,
          -1.5543166,
          -1.5543166,
          -1.5543166,
          -1.5541904,
          -1.5541904,
          -1.5541904,
          -1.5541904,
          -1.5541904,
          -1.5541904,
          -1.5541904,
          5.5276305,
          5.5276305,
          5.5276305,
          5.5276305,
          5.5276305,
          5.5276305,
          5.5276305,
          5.530956,
          5.530956,
          5.530956,
          5.530956,
          5.530956,
          5.530956,
          5.530956,
          5.535734,
          5.535734,
          5.535734,
          5.535734,
          5.535734,
          5.535734,
          5.535734,
          5.54466784,
          5.54466784,
          5.54466784,
          5.54466784,
          5.54466784,
          5.54466784,
          5.54466784,
          3.082726,
          3.082726,
          3.082726,
          3.082726,
          3.082726,
          3.082726,
          3.082726,
          3.0765161,
          3.0765161,
          3.0765161,
          3.0765161,
          3.0765161,
          3.0765161,
          3.0765161,
          3.0847579,
          3.0847579,
          3.0847579,
          3.0847579,
          3.0847579,
          3.0847579,
          3.0847579,
          3.0771752,
          3.0771752,
          3.0771752,
          3.0771752,
          3.0771752,
          3.0771752,
          3.0771752,
          3.08452355,
          3.08452355,
          3.08452355,
          3.08452355,
          3.08452355,
          3.08452355,
          3.08452355
         ],
         "marker": {
          "color": [
           9.5,
           9.5,
           9.5,
           9.5,
           9.5,
           9.5,
           9.5,
           9.8,
           9.8,
           9.8,
           9.8,
           9.8,
           9.8,
           9.8,
           9.4,
           9.4,
           9.4,
           9.4,
           9.4,
           9.4,
           9.4,
           9.3,
           9.3,
           9.3,
           9.3,
           9.3,
           9.3,
           9.3,
           9.6,
           9.6,
           9.6,
           9.6,
           9.6,
           9.6,
           9.6,
           10,
           10,
           10,
           10,
           10,
           10,
           10,
           9.6,
           9.6,
           9.6,
           9.6,
           9.6,
           9.6,
           9.6,
           10,
           10,
           10,
           10,
           10,
           10,
           10,
           9.3,
           9.3,
           9.3,
           9.3,
           9.3,
           9.3,
           9.3,
           9.5,
           9.5,
           9.5,
           9.5,
           9.5,
           9.5,
           9.5,
           9.3,
           9.3,
           9.3,
           9.3,
           9.3,
           9.3,
           9.3,
           9.7,
           9.7,
           9.7,
           9.7,
           9.7,
           9.7,
           9.7,
           9.3,
           9.3,
           9.3,
           9.3,
           9.3,
           9.3,
           9.3,
           9.4,
           9.4,
           9.4,
           9.4,
           9.4,
           9.4,
           9.4,
           9.5,
           9.5,
           9.5,
           9.5,
           9.5,
           9.5,
           9.5,
           9.3,
           9.3,
           9.3,
           9.3,
           9.3,
           9.3,
           9.3,
           9.3,
           9.3,
           9.3,
           9.3,
           9.3,
           9.3,
           9.3,
           9.3,
           9.3,
           9.3,
           9.3,
           9.3,
           9.3,
           9.3,
           9.5,
           9.5,
           9.5,
           9.5,
           9.5,
           9.5,
           9.5,
           9.7,
           9.7,
           9.7,
           9.7,
           9.7,
           9.7,
           9.7
          ],
          "coloraxis": "coloraxis",
          "size": [
           9.5,
           9.5,
           9.5,
           9.5,
           9.5,
           9.5,
           9.5,
           9.8,
           9.8,
           9.8,
           9.8,
           9.8,
           9.8,
           9.8,
           9.4,
           9.4,
           9.4,
           9.4,
           9.4,
           9.4,
           9.4,
           9.3,
           9.3,
           9.3,
           9.3,
           9.3,
           9.3,
           9.3,
           9.6,
           9.6,
           9.6,
           9.6,
           9.6,
           9.6,
           9.6,
           10,
           10,
           10,
           10,
           10,
           10,
           10,
           9.6,
           9.6,
           9.6,
           9.6,
           9.6,
           9.6,
           9.6,
           10,
           10,
           10,
           10,
           10,
           10,
           10,
           9.3,
           9.3,
           9.3,
           9.3,
           9.3,
           9.3,
           9.3,
           9.5,
           9.5,
           9.5,
           9.5,
           9.5,
           9.5,
           9.5,
           9.3,
           9.3,
           9.3,
           9.3,
           9.3,
           9.3,
           9.3,
           9.7,
           9.7,
           9.7,
           9.7,
           9.7,
           9.7,
           9.7,
           9.3,
           9.3,
           9.3,
           9.3,
           9.3,
           9.3,
           9.3,
           9.4,
           9.4,
           9.4,
           9.4,
           9.4,
           9.4,
           9.4,
           9.5,
           9.5,
           9.5,
           9.5,
           9.5,
           9.5,
           9.5,
           9.3,
           9.3,
           9.3,
           9.3,
           9.3,
           9.3,
           9.3,
           9.3,
           9.3,
           9.3,
           9.3,
           9.3,
           9.3,
           9.3,
           9.3,
           9.3,
           9.3,
           9.3,
           9.3,
           9.3,
           9.3,
           9.5,
           9.5,
           9.5,
           9.5,
           9.5,
           9.5,
           9.5,
           9.7,
           9.7,
           9.7,
           9.7,
           9.7,
           9.7,
           9.7
          ],
          "sizemode": "area",
          "sizeref": 0.025
         },
         "mode": "markers",
         "name": "",
         "showlegend": false,
         "subplot": "mapbox",
         "type": "scattermapbox"
        }
       ],
       "layout": {
        "coloraxis": {
         "colorbar": {
          "title": {
           "text": "score"
          }
         },
         "colorscale": [
          [
           0,
           "rgb(0,0,255)"
          ],
          [
           1,
           "rgb(255,0,0)"
          ]
         ]
        },
        "legend": {
         "itemsizing": "constant",
         "tracegroupgap": 0
        },
        "mapbox": {
         "center": {
          "lat": 43.088876494999994,
          "lon": 3.400108413
         },
         "domain": {
          "x": [
           0,
           1
          ],
          "y": [
           0,
           1
          ]
         },
         "style": "open-street-map",
         "zoom": 4
        },
        "margin": {
         "t": 60
        },
        "template": {
         "data": {
          "bar": [
           {
            "error_x": {
             "color": "#2a3f5f"
            },
            "error_y": {
             "color": "#2a3f5f"
            },
            "marker": {
             "line": {
              "color": "#E5ECF6",
              "width": 0.5
             },
             "pattern": {
              "fillmode": "overlay",
              "size": 10,
              "solidity": 0.2
             }
            },
            "type": "bar"
           }
          ],
          "barpolar": [
           {
            "marker": {
             "line": {
              "color": "#E5ECF6",
              "width": 0.5
             },
             "pattern": {
              "fillmode": "overlay",
              "size": 10,
              "solidity": 0.2
             }
            },
            "type": "barpolar"
           }
          ],
          "carpet": [
           {
            "aaxis": {
             "endlinecolor": "#2a3f5f",
             "gridcolor": "white",
             "linecolor": "white",
             "minorgridcolor": "white",
             "startlinecolor": "#2a3f5f"
            },
            "baxis": {
             "endlinecolor": "#2a3f5f",
             "gridcolor": "white",
             "linecolor": "white",
             "minorgridcolor": "white",
             "startlinecolor": "#2a3f5f"
            },
            "type": "carpet"
           }
          ],
          "choropleth": [
           {
            "colorbar": {
             "outlinewidth": 0,
             "ticks": ""
            },
            "type": "choropleth"
           }
          ],
          "contour": [
           {
            "colorbar": {
             "outlinewidth": 0,
             "ticks": ""
            },
            "colorscale": [
             [
              0,
              "#0d0887"
             ],
             [
              0.1111111111111111,
              "#46039f"
             ],
             [
              0.2222222222222222,
              "#7201a8"
             ],
             [
              0.3333333333333333,
              "#9c179e"
             ],
             [
              0.4444444444444444,
              "#bd3786"
             ],
             [
              0.5555555555555556,
              "#d8576b"
             ],
             [
              0.6666666666666666,
              "#ed7953"
             ],
             [
              0.7777777777777778,
              "#fb9f3a"
             ],
             [
              0.8888888888888888,
              "#fdca26"
             ],
             [
              1,
              "#f0f921"
             ]
            ],
            "type": "contour"
           }
          ],
          "contourcarpet": [
           {
            "colorbar": {
             "outlinewidth": 0,
             "ticks": ""
            },
            "type": "contourcarpet"
           }
          ],
          "heatmap": [
           {
            "colorbar": {
             "outlinewidth": 0,
             "ticks": ""
            },
            "colorscale": [
             [
              0,
              "#0d0887"
             ],
             [
              0.1111111111111111,
              "#46039f"
             ],
             [
              0.2222222222222222,
              "#7201a8"
             ],
             [
              0.3333333333333333,
              "#9c179e"
             ],
             [
              0.4444444444444444,
              "#bd3786"
             ],
             [
              0.5555555555555556,
              "#d8576b"
             ],
             [
              0.6666666666666666,
              "#ed7953"
             ],
             [
              0.7777777777777778,
              "#fb9f3a"
             ],
             [
              0.8888888888888888,
              "#fdca26"
             ],
             [
              1,
              "#f0f921"
             ]
            ],
            "type": "heatmap"
           }
          ],
          "heatmapgl": [
           {
            "colorbar": {
             "outlinewidth": 0,
             "ticks": ""
            },
            "colorscale": [
             [
              0,
              "#0d0887"
             ],
             [
              0.1111111111111111,
              "#46039f"
             ],
             [
              0.2222222222222222,
              "#7201a8"
             ],
             [
              0.3333333333333333,
              "#9c179e"
             ],
             [
              0.4444444444444444,
              "#bd3786"
             ],
             [
              0.5555555555555556,
              "#d8576b"
             ],
             [
              0.6666666666666666,
              "#ed7953"
             ],
             [
              0.7777777777777778,
              "#fb9f3a"
             ],
             [
              0.8888888888888888,
              "#fdca26"
             ],
             [
              1,
              "#f0f921"
             ]
            ],
            "type": "heatmapgl"
           }
          ],
          "histogram": [
           {
            "marker": {
             "pattern": {
              "fillmode": "overlay",
              "size": 10,
              "solidity": 0.2
             }
            },
            "type": "histogram"
           }
          ],
          "histogram2d": [
           {
            "colorbar": {
             "outlinewidth": 0,
             "ticks": ""
            },
            "colorscale": [
             [
              0,
              "#0d0887"
             ],
             [
              0.1111111111111111,
              "#46039f"
             ],
             [
              0.2222222222222222,
              "#7201a8"
             ],
             [
              0.3333333333333333,
              "#9c179e"
             ],
             [
              0.4444444444444444,
              "#bd3786"
             ],
             [
              0.5555555555555556,
              "#d8576b"
             ],
             [
              0.6666666666666666,
              "#ed7953"
             ],
             [
              0.7777777777777778,
              "#fb9f3a"
             ],
             [
              0.8888888888888888,
              "#fdca26"
             ],
             [
              1,
              "#f0f921"
             ]
            ],
            "type": "histogram2d"
           }
          ],
          "histogram2dcontour": [
           {
            "colorbar": {
             "outlinewidth": 0,
             "ticks": ""
            },
            "colorscale": [
             [
              0,
              "#0d0887"
             ],
             [
              0.1111111111111111,
              "#46039f"
             ],
             [
              0.2222222222222222,
              "#7201a8"
             ],
             [
              0.3333333333333333,
              "#9c179e"
             ],
             [
              0.4444444444444444,
              "#bd3786"
             ],
             [
              0.5555555555555556,
              "#d8576b"
             ],
             [
              0.6666666666666666,
              "#ed7953"
             ],
             [
              0.7777777777777778,
              "#fb9f3a"
             ],
             [
              0.8888888888888888,
              "#fdca26"
             ],
             [
              1,
              "#f0f921"
             ]
            ],
            "type": "histogram2dcontour"
           }
          ],
          "mesh3d": [
           {
            "colorbar": {
             "outlinewidth": 0,
             "ticks": ""
            },
            "type": "mesh3d"
           }
          ],
          "parcoords": [
           {
            "line": {
             "colorbar": {
              "outlinewidth": 0,
              "ticks": ""
             }
            },
            "type": "parcoords"
           }
          ],
          "pie": [
           {
            "automargin": true,
            "type": "pie"
           }
          ],
          "scatter": [
           {
            "fillpattern": {
             "fillmode": "overlay",
             "size": 10,
             "solidity": 0.2
            },
            "type": "scatter"
           }
          ],
          "scatter3d": [
           {
            "line": {
             "colorbar": {
              "outlinewidth": 0,
              "ticks": ""
             }
            },
            "marker": {
             "colorbar": {
              "outlinewidth": 0,
              "ticks": ""
             }
            },
            "type": "scatter3d"
           }
          ],
          "scattercarpet": [
           {
            "marker": {
             "colorbar": {
              "outlinewidth": 0,
              "ticks": ""
             }
            },
            "type": "scattercarpet"
           }
          ],
          "scattergeo": [
           {
            "marker": {
             "colorbar": {
              "outlinewidth": 0,
              "ticks": ""
             }
            },
            "type": "scattergeo"
           }
          ],
          "scattergl": [
           {
            "marker": {
             "colorbar": {
              "outlinewidth": 0,
              "ticks": ""
             }
            },
            "type": "scattergl"
           }
          ],
          "scattermapbox": [
           {
            "marker": {
             "colorbar": {
              "outlinewidth": 0,
              "ticks": ""
             }
            },
            "type": "scattermapbox"
           }
          ],
          "scatterpolar": [
           {
            "marker": {
             "colorbar": {
              "outlinewidth": 0,
              "ticks": ""
             }
            },
            "type": "scatterpolar"
           }
          ],
          "scatterpolargl": [
           {
            "marker": {
             "colorbar": {
              "outlinewidth": 0,
              "ticks": ""
             }
            },
            "type": "scatterpolargl"
           }
          ],
          "scatterternary": [
           {
            "marker": {
             "colorbar": {
              "outlinewidth": 0,
              "ticks": ""
             }
            },
            "type": "scatterternary"
           }
          ],
          "surface": [
           {
            "colorbar": {
             "outlinewidth": 0,
             "ticks": ""
            },
            "colorscale": [
             [
              0,
              "#0d0887"
             ],
             [
              0.1111111111111111,
              "#46039f"
             ],
             [
              0.2222222222222222,
              "#7201a8"
             ],
             [
              0.3333333333333333,
              "#9c179e"
             ],
             [
              0.4444444444444444,
              "#bd3786"
             ],
             [
              0.5555555555555556,
              "#d8576b"
             ],
             [
              0.6666666666666666,
              "#ed7953"
             ],
             [
              0.7777777777777778,
              "#fb9f3a"
             ],
             [
              0.8888888888888888,
              "#fdca26"
             ],
             [
              1,
              "#f0f921"
             ]
            ],
            "type": "surface"
           }
          ],
          "table": [
           {
            "cells": {
             "fill": {
              "color": "#EBF0F8"
             },
             "line": {
              "color": "white"
             }
            },
            "header": {
             "fill": {
              "color": "#C8D4E3"
             },
             "line": {
              "color": "white"
             }
            },
            "type": "table"
           }
          ]
         },
         "layout": {
          "annotationdefaults": {
           "arrowcolor": "#2a3f5f",
           "arrowhead": 0,
           "arrowwidth": 1
          },
          "autotypenumbers": "strict",
          "coloraxis": {
           "colorbar": {
            "outlinewidth": 0,
            "ticks": ""
           }
          },
          "colorscale": {
           "diverging": [
            [
             0,
             "#8e0152"
            ],
            [
             0.1,
             "#c51b7d"
            ],
            [
             0.2,
             "#de77ae"
            ],
            [
             0.3,
             "#f1b6da"
            ],
            [
             0.4,
             "#fde0ef"
            ],
            [
             0.5,
             "#f7f7f7"
            ],
            [
             0.6,
             "#e6f5d0"
            ],
            [
             0.7,
             "#b8e186"
            ],
            [
             0.8,
             "#7fbc41"
            ],
            [
             0.9,
             "#4d9221"
            ],
            [
             1,
             "#276419"
            ]
           ],
           "sequential": [
            [
             0,
             "#0d0887"
            ],
            [
             0.1111111111111111,
             "#46039f"
            ],
            [
             0.2222222222222222,
             "#7201a8"
            ],
            [
             0.3333333333333333,
             "#9c179e"
            ],
            [
             0.4444444444444444,
             "#bd3786"
            ],
            [
             0.5555555555555556,
             "#d8576b"
            ],
            [
             0.6666666666666666,
             "#ed7953"
            ],
            [
             0.7777777777777778,
             "#fb9f3a"
            ],
            [
             0.8888888888888888,
             "#fdca26"
            ],
            [
             1,
             "#f0f921"
            ]
           ],
           "sequentialminus": [
            [
             0,
             "#0d0887"
            ],
            [
             0.1111111111111111,
             "#46039f"
            ],
            [
             0.2222222222222222,
             "#7201a8"
            ],
            [
             0.3333333333333333,
             "#9c179e"
            ],
            [
             0.4444444444444444,
             "#bd3786"
            ],
            [
             0.5555555555555556,
             "#d8576b"
            ],
            [
             0.6666666666666666,
             "#ed7953"
            ],
            [
             0.7777777777777778,
             "#fb9f3a"
            ],
            [
             0.8888888888888888,
             "#fdca26"
            ],
            [
             1,
             "#f0f921"
            ]
           ]
          },
          "colorway": [
           "#636efa",
           "#EF553B",
           "#00cc96",
           "#ab63fa",
           "#FFA15A",
           "#19d3f3",
           "#FF6692",
           "#B6E880",
           "#FF97FF",
           "#FECB52"
          ],
          "font": {
           "color": "#2a3f5f"
          },
          "geo": {
           "bgcolor": "white",
           "lakecolor": "white",
           "landcolor": "#E5ECF6",
           "showlakes": true,
           "showland": true,
           "subunitcolor": "white"
          },
          "hoverlabel": {
           "align": "left"
          },
          "hovermode": "closest",
          "mapbox": {
           "style": "light"
          },
          "paper_bgcolor": "white",
          "plot_bgcolor": "#E5ECF6",
          "polar": {
           "angularaxis": {
            "gridcolor": "white",
            "linecolor": "white",
            "ticks": ""
           },
           "bgcolor": "#E5ECF6",
           "radialaxis": {
            "gridcolor": "white",
            "linecolor": "white",
            "ticks": ""
           }
          },
          "scene": {
           "xaxis": {
            "backgroundcolor": "#E5ECF6",
            "gridcolor": "white",
            "gridwidth": 2,
            "linecolor": "white",
            "showbackground": true,
            "ticks": "",
            "zerolinecolor": "white"
           },
           "yaxis": {
            "backgroundcolor": "#E5ECF6",
            "gridcolor": "white",
            "gridwidth": 2,
            "linecolor": "white",
            "showbackground": true,
            "ticks": "",
            "zerolinecolor": "white"
           },
           "zaxis": {
            "backgroundcolor": "#E5ECF6",
            "gridcolor": "white",
            "gridwidth": 2,
            "linecolor": "white",
            "showbackground": true,
            "ticks": "",
            "zerolinecolor": "white"
           }
          },
          "shapedefaults": {
           "line": {
            "color": "#2a3f5f"
           }
          },
          "ternary": {
           "aaxis": {
            "gridcolor": "white",
            "linecolor": "white",
            "ticks": ""
           },
           "baxis": {
            "gridcolor": "white",
            "linecolor": "white",
            "ticks": ""
           },
           "bgcolor": "#E5ECF6",
           "caxis": {
            "gridcolor": "white",
            "linecolor": "white",
            "ticks": ""
           }
          },
          "title": {
           "x": 0.05
          },
          "xaxis": {
           "automargin": true,
           "gridcolor": "white",
           "linecolor": "white",
           "ticks": "",
           "title": {
            "standoff": 15
           },
           "zerolinecolor": "white",
           "zerolinewidth": 2
          },
          "yaxis": {
           "automargin": true,
           "gridcolor": "white",
           "linecolor": "white",
           "ticks": "",
           "title": {
            "standoff": 15
           },
           "zerolinecolor": "white",
           "zerolinewidth": 2
          }
         }
        }
       }
      }
     },
     "metadata": {},
     "output_type": "display_data"
    }
   ],
   "source": [
    "fig = px.scatter_mapbox(kayak_df.loc[kayak_df['hotel_name'].isin(best_hotels)], \n",
    "                        lat=\"hotel_latitude\", lon=\"hotel_longtitude\", color_continuous_scale=px.colors.sequential.Bluered,\n",
    "                        hover_name=\"hotel_name\", color=\"score\", size=\"score\",\n",
    "                        zoom=4, mapbox_style=\"open-street-map\")\n",
    "fig.show()"
   ]
  }
 ],
 "metadata": {
  "kernelspec": {
   "display_name": "Python 3",
   "language": "python",
   "name": "python3"
  },
  "language_info": {
   "codemirror_mode": {
    "name": "ipython",
    "version": 3
   },
   "file_extension": ".py",
   "mimetype": "text/x-python",
   "name": "python",
   "nbconvert_exporter": "python",
   "pygments_lexer": "ipython3",
   "version": "3.10.10"
  },
  "orig_nbformat": 4,
  "vscode": {
   "interpreter": {
    "hash": "a0fdf8838102b5a6b2938995cfca801768491c1c6585082ea8435b0dad918ca1"
   }
  }
 },
 "nbformat": 4,
 "nbformat_minor": 2
}
