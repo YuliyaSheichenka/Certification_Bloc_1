{
 "cells": [
  {
   "cell_type": "code",
   "execution_count": 1,
   "metadata": {},
   "outputs": [],
   "source": [
    "import pandas as pd\n",
    "import plotly.express as px"
   ]
  },
  {
   "cell_type": "code",
   "execution_count": 2,
   "metadata": {},
   "outputs": [],
   "source": [
    "\n",
    "# Loading data from S3 bucket\n",
    "url = 'https://kayak-booking-bucket-12-12-2022.s3.eu-west-3.amazonaws.com/kayak.csv'\n",
    "kayak_df = pd.read_csv(url)"
   ]
  },
  {
   "attachments": {},
   "cell_type": "markdown",
   "metadata": {},
   "source": [
    "For each destination, the table contains daily forecasts for next 7 days for each city. Let us see group toghether the forecast by the city to obtain mean values of different weather characteristics for the next 7 days."
   ]
  },
  {
   "cell_type": "code",
   "execution_count": 3,
   "metadata": {},
   "outputs": [
    {
     "data": {
      "text/html": [
       "<div>\n",
       "<style scoped>\n",
       "    .dataframe tbody tr th:only-of-type {\n",
       "        vertical-align: middle;\n",
       "    }\n",
       "\n",
       "    .dataframe tbody tr th {\n",
       "        vertical-align: top;\n",
       "    }\n",
       "\n",
       "    .dataframe thead th {\n",
       "        text-align: right;\n",
       "    }\n",
       "</style>\n",
       "<table border=\"1\" class=\"dataframe\">\n",
       "  <thead>\n",
       "    <tr style=\"text-align: right;\">\n",
       "      <th></th>\n",
       "      <th>city_name</th>\n",
       "      <th>city_id</th>\n",
       "      <th>city_latitude</th>\n",
       "      <th>city_longtitude</th>\n",
       "      <th>score</th>\n",
       "      <th>hotel_latitude</th>\n",
       "      <th>hotel_longtitude</th>\n",
       "      <th>weather_id</th>\n",
       "      <th>pressure</th>\n",
       "      <th>humidity</th>\n",
       "      <th>...</th>\n",
       "      <th>temp_day</th>\n",
       "      <th>temp_min</th>\n",
       "      <th>temp_max</th>\n",
       "      <th>temp_night</th>\n",
       "      <th>temp_eve</th>\n",
       "      <th>temp_morn</th>\n",
       "      <th>feels_like_day</th>\n",
       "      <th>feels_like_night</th>\n",
       "      <th>feels_like_eve</th>\n",
       "      <th>feels_like_morn</th>\n",
       "    </tr>\n",
       "  </thead>\n",
       "  <tbody>\n",
       "    <tr>\n",
       "      <th>0</th>\n",
       "      <td>Aigues-Mortes</td>\n",
       "      <td>298018344.0</td>\n",
       "      <td>43.565823</td>\n",
       "      <td>4.191284</td>\n",
       "      <td>8.769565</td>\n",
       "      <td>43.566611</td>\n",
       "      <td>4.190647</td>\n",
       "      <td>663.142857</td>\n",
       "      <td>1011.142857</td>\n",
       "      <td>75.000000</td>\n",
       "      <td>...</td>\n",
       "      <td>9.617143</td>\n",
       "      <td>6.437143</td>\n",
       "      <td>10.471429</td>\n",
       "      <td>7.922857</td>\n",
       "      <td>9.142857</td>\n",
       "      <td>7.092857</td>\n",
       "      <td>7.555714</td>\n",
       "      <td>5.272857</td>\n",
       "      <td>6.948571</td>\n",
       "      <td>4.598571</td>\n",
       "    </tr>\n",
       "    <tr>\n",
       "      <th>1</th>\n",
       "      <td>Aix-en-Provence</td>\n",
       "      <td>297906924.0</td>\n",
       "      <td>43.529842</td>\n",
       "      <td>5.447474</td>\n",
       "      <td>8.153333</td>\n",
       "      <td>43.527318</td>\n",
       "      <td>5.446230</td>\n",
       "      <td>646.571429</td>\n",
       "      <td>1009.714286</td>\n",
       "      <td>62.285714</td>\n",
       "      <td>...</td>\n",
       "      <td>10.554286</td>\n",
       "      <td>6.537143</td>\n",
       "      <td>11.868571</td>\n",
       "      <td>7.798571</td>\n",
       "      <td>9.584286</td>\n",
       "      <td>7.084286</td>\n",
       "      <td>9.402857</td>\n",
       "      <td>6.341429</td>\n",
       "      <td>8.368571</td>\n",
       "      <td>5.612857</td>\n",
       "    </tr>\n",
       "    <tr>\n",
       "      <th>2</th>\n",
       "      <td>Amiens</td>\n",
       "      <td>297534793.0</td>\n",
       "      <td>49.894171</td>\n",
       "      <td>2.295695</td>\n",
       "      <td>8.539130</td>\n",
       "      <td>49.895030</td>\n",
       "      <td>2.299150</td>\n",
       "      <td>715.142857</td>\n",
       "      <td>1018.714286</td>\n",
       "      <td>57.000000</td>\n",
       "      <td>...</td>\n",
       "      <td>6.948571</td>\n",
       "      <td>1.470000</td>\n",
       "      <td>7.471429</td>\n",
       "      <td>2.774286</td>\n",
       "      <td>4.358571</td>\n",
       "      <td>1.950000</td>\n",
       "      <td>3.370000</td>\n",
       "      <td>-0.874286</td>\n",
       "      <td>0.625714</td>\n",
       "      <td>-1.874286</td>\n",
       "    </tr>\n",
       "    <tr>\n",
       "      <th>3</th>\n",
       "      <td>Annecy</td>\n",
       "      <td>298516920.0</td>\n",
       "      <td>45.899235</td>\n",
       "      <td>6.128885</td>\n",
       "      <td>8.204348</td>\n",
       "      <td>45.899733</td>\n",
       "      <td>6.126764</td>\n",
       "      <td>601.285714</td>\n",
       "      <td>1011.428571</td>\n",
       "      <td>65.428571</td>\n",
       "      <td>...</td>\n",
       "      <td>8.252857</td>\n",
       "      <td>3.221429</td>\n",
       "      <td>8.954286</td>\n",
       "      <td>3.892857</td>\n",
       "      <td>4.951429</td>\n",
       "      <td>3.814286</td>\n",
       "      <td>6.355714</td>\n",
       "      <td>2.918571</td>\n",
       "      <td>3.515714</td>\n",
       "      <td>2.278571</td>\n",
       "    </tr>\n",
       "    <tr>\n",
       "      <th>4</th>\n",
       "      <td>Ariège</td>\n",
       "      <td>297389050.0</td>\n",
       "      <td>42.945537</td>\n",
       "      <td>1.406554</td>\n",
       "      <td>8.526667</td>\n",
       "      <td>42.821752</td>\n",
       "      <td>1.643028</td>\n",
       "      <td>605.000000</td>\n",
       "      <td>1012.857143</td>\n",
       "      <td>71.857143</td>\n",
       "      <td>...</td>\n",
       "      <td>1.298571</td>\n",
       "      <td>-3.047143</td>\n",
       "      <td>2.007143</td>\n",
       "      <td>-1.992857</td>\n",
       "      <td>-1.228571</td>\n",
       "      <td>-2.630000</td>\n",
       "      <td>-0.601429</td>\n",
       "      <td>-3.222857</td>\n",
       "      <td>-2.362857</td>\n",
       "      <td>-3.667143</td>\n",
       "    </tr>\n",
       "  </tbody>\n",
       "</table>\n",
       "<p>5 rows × 29 columns</p>\n",
       "</div>"
      ],
      "text/plain": [
       "         city_name      city_id  city_latitude  city_longtitude     score  \\\n",
       "0    Aigues-Mortes  298018344.0      43.565823         4.191284  8.769565   \n",
       "1  Aix-en-Provence  297906924.0      43.529842         5.447474  8.153333   \n",
       "2           Amiens  297534793.0      49.894171         2.295695  8.539130   \n",
       "3           Annecy  298516920.0      45.899235         6.128885  8.204348   \n",
       "4           Ariège  297389050.0      42.945537         1.406554  8.526667   \n",
       "\n",
       "   hotel_latitude  hotel_longtitude  weather_id     pressure   humidity  ...  \\\n",
       "0       43.566611          4.190647  663.142857  1011.142857  75.000000  ...   \n",
       "1       43.527318          5.446230  646.571429  1009.714286  62.285714  ...   \n",
       "2       49.895030          2.299150  715.142857  1018.714286  57.000000  ...   \n",
       "3       45.899733          6.126764  601.285714  1011.428571  65.428571  ...   \n",
       "4       42.821752          1.643028  605.000000  1012.857143  71.857143  ...   \n",
       "\n",
       "    temp_day  temp_min   temp_max  temp_night  temp_eve  temp_morn  \\\n",
       "0   9.617143  6.437143  10.471429    7.922857  9.142857   7.092857   \n",
       "1  10.554286  6.537143  11.868571    7.798571  9.584286   7.084286   \n",
       "2   6.948571  1.470000   7.471429    2.774286  4.358571   1.950000   \n",
       "3   8.252857  3.221429   8.954286    3.892857  4.951429   3.814286   \n",
       "4   1.298571 -3.047143   2.007143   -1.992857 -1.228571  -2.630000   \n",
       "\n",
       "   feels_like_day  feels_like_night  feels_like_eve  feels_like_morn  \n",
       "0        7.555714          5.272857        6.948571         4.598571  \n",
       "1        9.402857          6.341429        8.368571         5.612857  \n",
       "2        3.370000         -0.874286        0.625714        -1.874286  \n",
       "3        6.355714          2.918571        3.515714         2.278571  \n",
       "4       -0.601429         -3.222857       -2.362857        -3.667143  \n",
       "\n",
       "[5 rows x 29 columns]"
      ]
     },
     "execution_count": 3,
     "metadata": {},
     "output_type": "execute_result"
    }
   ],
   "source": [
    "weekly_forecast_by_city = kayak_df.groupby(['city_name']).mean(numeric_only=True).reset_index()\n",
    "weekly_forecast_by_city.head()"
   ]
  },
  {
   "attachments": {},
   "cell_type": "markdown",
   "metadata": {},
   "source": [
    "I think that the perfect weather for visiting a city is about 25°C. So I will choose five cities where mean temperature for next 7 days is closest to 25°C."
   ]
  },
  {
   "cell_type": "code",
   "execution_count": 4,
   "metadata": {},
   "outputs": [
    {
     "data": {
      "text/html": [
       "<div>\n",
       "<style scoped>\n",
       "    .dataframe tbody tr th:only-of-type {\n",
       "        vertical-align: middle;\n",
       "    }\n",
       "\n",
       "    .dataframe tbody tr th {\n",
       "        vertical-align: top;\n",
       "    }\n",
       "\n",
       "    .dataframe thead th {\n",
       "        text-align: right;\n",
       "    }\n",
       "</style>\n",
       "<table border=\"1\" class=\"dataframe\">\n",
       "  <thead>\n",
       "    <tr style=\"text-align: right;\">\n",
       "      <th></th>\n",
       "      <th>city_name</th>\n",
       "      <th>temp_day</th>\n",
       "      <th>dif_from_optimum</th>\n",
       "    </tr>\n",
       "  </thead>\n",
       "  <tbody>\n",
       "    <tr>\n",
       "      <th>10</th>\n",
       "      <td>Bormes-les-Mimosas</td>\n",
       "      <td>11.664286</td>\n",
       "      <td>13.335714</td>\n",
       "    </tr>\n",
       "    <tr>\n",
       "      <th>14</th>\n",
       "      <td>Collioure</td>\n",
       "      <td>11.298571</td>\n",
       "      <td>13.701429</td>\n",
       "    </tr>\n",
       "    <tr>\n",
       "      <th>12</th>\n",
       "      <td>Cassis</td>\n",
       "      <td>11.118571</td>\n",
       "      <td>13.881429</td>\n",
       "    </tr>\n",
       "    <tr>\n",
       "      <th>1</th>\n",
       "      <td>Aix-en-Provence</td>\n",
       "      <td>10.554286</td>\n",
       "      <td>14.445714</td>\n",
       "    </tr>\n",
       "    <tr>\n",
       "      <th>0</th>\n",
       "      <td>Aigues-Mortes</td>\n",
       "      <td>9.617143</td>\n",
       "      <td>15.382857</td>\n",
       "    </tr>\n",
       "  </tbody>\n",
       "</table>\n",
       "</div>"
      ],
      "text/plain": [
       "             city_name   temp_day  dif_from_optimum\n",
       "10  Bormes-les-Mimosas  11.664286         13.335714\n",
       "14           Collioure  11.298571         13.701429\n",
       "12              Cassis  11.118571         13.881429\n",
       "1      Aix-en-Provence  10.554286         14.445714\n",
       "0        Aigues-Mortes   9.617143         15.382857"
      ]
     },
     "metadata": {},
     "output_type": "display_data"
    }
   ],
   "source": [
    "weekly_forecast_by_city[\"dif_from_optimum\"] = abs(25 - weekly_forecast_by_city[\"temp_day\"])\n",
    "best_cities_df = weekly_forecast_by_city[[\"city_name\", \"temp_day\", \"dif_from_optimum\"]].sort_values(by=['dif_from_optimum'])[:5]\n",
    "display(best_cities_df)"
   ]
  },
  {
   "cell_type": "code",
   "execution_count": 5,
   "metadata": {},
   "outputs": [
    {
     "data": {
      "text/plain": [
       "['Bormes-les-Mimosas',\n",
       " 'Collioure',\n",
       " 'Cassis',\n",
       " 'Aix-en-Provence',\n",
       " 'Aigues-Mortes']"
      ]
     },
     "execution_count": 5,
     "metadata": {},
     "output_type": "execute_result"
    }
   ],
   "source": [
    "best_cities = best_cities_df[\"city_name\"].tolist()\n",
    "best_cities"
   ]
  },
  {
   "cell_type": "code",
   "execution_count": 6,
   "metadata": {},
   "outputs": [
    {
     "data": {
      "text/html": [
       "<div>\n",
       "<style scoped>\n",
       "    .dataframe tbody tr th:only-of-type {\n",
       "        vertical-align: middle;\n",
       "    }\n",
       "\n",
       "    .dataframe tbody tr th {\n",
       "        vertical-align: top;\n",
       "    }\n",
       "\n",
       "    .dataframe thead th {\n",
       "        text-align: right;\n",
       "    }\n",
       "</style>\n",
       "<table border=\"1\" class=\"dataframe\">\n",
       "  <thead>\n",
       "    <tr style=\"text-align: right;\">\n",
       "      <th></th>\n",
       "      <th>city_name</th>\n",
       "      <th>city_id</th>\n",
       "      <th>city_latitude</th>\n",
       "      <th>city_longtitude</th>\n",
       "      <th>score</th>\n",
       "      <th>hotel_latitude</th>\n",
       "      <th>hotel_longtitude</th>\n",
       "      <th>weather_id</th>\n",
       "      <th>pressure</th>\n",
       "      <th>humidity</th>\n",
       "      <th>...</th>\n",
       "      <th>temp_min</th>\n",
       "      <th>temp_max</th>\n",
       "      <th>temp_night</th>\n",
       "      <th>temp_eve</th>\n",
       "      <th>temp_morn</th>\n",
       "      <th>feels_like_day</th>\n",
       "      <th>feels_like_night</th>\n",
       "      <th>feels_like_eve</th>\n",
       "      <th>feels_like_morn</th>\n",
       "      <th>dif_from_optimum</th>\n",
       "    </tr>\n",
       "  </thead>\n",
       "  <tbody>\n",
       "    <tr>\n",
       "      <th>0</th>\n",
       "      <td>Aigues-Mortes</td>\n",
       "      <td>298018344.0</td>\n",
       "      <td>43.565823</td>\n",
       "      <td>4.191284</td>\n",
       "      <td>8.769565</td>\n",
       "      <td>43.566611</td>\n",
       "      <td>4.190647</td>\n",
       "      <td>663.142857</td>\n",
       "      <td>1011.142857</td>\n",
       "      <td>75.000000</td>\n",
       "      <td>...</td>\n",
       "      <td>6.437143</td>\n",
       "      <td>10.471429</td>\n",
       "      <td>7.922857</td>\n",
       "      <td>9.142857</td>\n",
       "      <td>7.092857</td>\n",
       "      <td>7.555714</td>\n",
       "      <td>5.272857</td>\n",
       "      <td>6.948571</td>\n",
       "      <td>4.598571</td>\n",
       "      <td>15.382857</td>\n",
       "    </tr>\n",
       "    <tr>\n",
       "      <th>1</th>\n",
       "      <td>Aix-en-Provence</td>\n",
       "      <td>297906924.0</td>\n",
       "      <td>43.529842</td>\n",
       "      <td>5.447474</td>\n",
       "      <td>8.153333</td>\n",
       "      <td>43.527318</td>\n",
       "      <td>5.446230</td>\n",
       "      <td>646.571429</td>\n",
       "      <td>1009.714286</td>\n",
       "      <td>62.285714</td>\n",
       "      <td>...</td>\n",
       "      <td>6.537143</td>\n",
       "      <td>11.868571</td>\n",
       "      <td>7.798571</td>\n",
       "      <td>9.584286</td>\n",
       "      <td>7.084286</td>\n",
       "      <td>9.402857</td>\n",
       "      <td>6.341429</td>\n",
       "      <td>8.368571</td>\n",
       "      <td>5.612857</td>\n",
       "      <td>14.445714</td>\n",
       "    </tr>\n",
       "    <tr>\n",
       "      <th>10</th>\n",
       "      <td>Bormes-les-Mimosas</td>\n",
       "      <td>297749145.0</td>\n",
       "      <td>43.150697</td>\n",
       "      <td>6.341928</td>\n",
       "      <td>8.364706</td>\n",
       "      <td>43.149056</td>\n",
       "      <td>6.341032</td>\n",
       "      <td>587.285714</td>\n",
       "      <td>1009.571429</td>\n",
       "      <td>69.142857</td>\n",
       "      <td>...</td>\n",
       "      <td>7.807143</td>\n",
       "      <td>12.060000</td>\n",
       "      <td>8.587143</td>\n",
       "      <td>9.978571</td>\n",
       "      <td>8.774286</td>\n",
       "      <td>9.548571</td>\n",
       "      <td>6.188571</td>\n",
       "      <td>7.774286</td>\n",
       "      <td>6.338571</td>\n",
       "      <td>13.335714</td>\n",
       "    </tr>\n",
       "    <tr>\n",
       "      <th>12</th>\n",
       "      <td>Cassis</td>\n",
       "      <td>298072685.0</td>\n",
       "      <td>43.214036</td>\n",
       "      <td>5.539632</td>\n",
       "      <td>8.404167</td>\n",
       "      <td>43.215186</td>\n",
       "      <td>5.537372</td>\n",
       "      <td>630.571429</td>\n",
       "      <td>1009.571429</td>\n",
       "      <td>67.285714</td>\n",
       "      <td>...</td>\n",
       "      <td>8.581429</td>\n",
       "      <td>11.998571</td>\n",
       "      <td>9.560000</td>\n",
       "      <td>10.850000</td>\n",
       "      <td>9.227143</td>\n",
       "      <td>8.992857</td>\n",
       "      <td>7.941429</td>\n",
       "      <td>9.371429</td>\n",
       "      <td>7.178571</td>\n",
       "      <td>13.881429</td>\n",
       "    </tr>\n",
       "    <tr>\n",
       "      <th>14</th>\n",
       "      <td>Collioure</td>\n",
       "      <td>298221742.0</td>\n",
       "      <td>42.525050</td>\n",
       "      <td>3.083155</td>\n",
       "      <td>8.272000</td>\n",
       "      <td>42.524811</td>\n",
       "      <td>3.082690</td>\n",
       "      <td>617.714286</td>\n",
       "      <td>1010.857143</td>\n",
       "      <td>55.571429</td>\n",
       "      <td>...</td>\n",
       "      <td>7.082857</td>\n",
       "      <td>11.782857</td>\n",
       "      <td>8.444286</td>\n",
       "      <td>9.335714</td>\n",
       "      <td>7.592857</td>\n",
       "      <td>9.257143</td>\n",
       "      <td>5.751429</td>\n",
       "      <td>6.914286</td>\n",
       "      <td>4.770000</td>\n",
       "      <td>13.701429</td>\n",
       "    </tr>\n",
       "  </tbody>\n",
       "</table>\n",
       "<p>5 rows × 30 columns</p>\n",
       "</div>"
      ],
      "text/plain": [
       "             city_name      city_id  city_latitude  city_longtitude     score  \\\n",
       "0        Aigues-Mortes  298018344.0      43.565823         4.191284  8.769565   \n",
       "1      Aix-en-Provence  297906924.0      43.529842         5.447474  8.153333   \n",
       "10  Bormes-les-Mimosas  297749145.0      43.150697         6.341928  8.364706   \n",
       "12              Cassis  298072685.0      43.214036         5.539632  8.404167   \n",
       "14           Collioure  298221742.0      42.525050         3.083155  8.272000   \n",
       "\n",
       "    hotel_latitude  hotel_longtitude  weather_id     pressure   humidity  ...  \\\n",
       "0        43.566611          4.190647  663.142857  1011.142857  75.000000  ...   \n",
       "1        43.527318          5.446230  646.571429  1009.714286  62.285714  ...   \n",
       "10       43.149056          6.341032  587.285714  1009.571429  69.142857  ...   \n",
       "12       43.215186          5.537372  630.571429  1009.571429  67.285714  ...   \n",
       "14       42.524811          3.082690  617.714286  1010.857143  55.571429  ...   \n",
       "\n",
       "    temp_min   temp_max  temp_night   temp_eve  temp_morn  feels_like_day  \\\n",
       "0   6.437143  10.471429    7.922857   9.142857   7.092857        7.555714   \n",
       "1   6.537143  11.868571    7.798571   9.584286   7.084286        9.402857   \n",
       "10  7.807143  12.060000    8.587143   9.978571   8.774286        9.548571   \n",
       "12  8.581429  11.998571    9.560000  10.850000   9.227143        8.992857   \n",
       "14  7.082857  11.782857    8.444286   9.335714   7.592857        9.257143   \n",
       "\n",
       "    feels_like_night  feels_like_eve  feels_like_morn  dif_from_optimum  \n",
       "0           5.272857        6.948571         4.598571         15.382857  \n",
       "1           6.341429        8.368571         5.612857         14.445714  \n",
       "10          6.188571        7.774286         6.338571         13.335714  \n",
       "12          7.941429        9.371429         7.178571         13.881429  \n",
       "14          5.751429        6.914286         4.770000         13.701429  \n",
       "\n",
       "[5 rows x 30 columns]"
      ]
     },
     "execution_count": 6,
     "metadata": {},
     "output_type": "execute_result"
    }
   ],
   "source": [
    "weekly_forecast_by_city.loc[weekly_forecast_by_city['city_name'].isin(best_cities)]"
   ]
  },
  {
   "attachments": {},
   "cell_type": "markdown",
   "metadata": {},
   "source": [
    "Creating a map that will show where the cities with the best weather are situated."
   ]
  },
  {
   "cell_type": "code",
   "execution_count": 7,
   "metadata": {},
   "outputs": [
    {
     "data": {
      "application/vnd.plotly.v1+json": {
       "config": {
        "plotlyServerURL": "https://plot.ly"
       },
       "data": [
        {
         "hovertemplate": "<b>%{hovertext}</b><br><br>temp_day=%{marker.size}<br>city_latitude=%{lat}<br>city_longtitude=%{lon}<br>dif_from_optimum=%{marker.color}<extra></extra>",
         "hovertext": [
          "Aigues-Mortes",
          "Aix-en-Provence",
          "Bormes-les-Mimosas",
          "Cassis",
          "Collioure"
         ],
         "lat": [
          43.5658225,
          43.5298424,
          43.1506968,
          43.2140359,
          42.52505
         ],
         "legendgroup": "",
         "lon": [
          4.1912837,
          5.4474738,
          6.3419285,
          5.5396318,
          3.0831554
         ],
         "marker": {
          "color": [
           15.382857142857143,
           14.445714285714285,
           13.335714285714285,
           13.881428571428572,
           13.701428571428572
          ],
          "coloraxis": "coloraxis",
          "size": [
           9.617142857142857,
           10.554285714285715,
           11.664285714285715,
           11.118571428571428,
           11.298571428571428
          ],
          "sizemode": "area",
          "sizeref": 0.029160714285714286
         },
         "mode": "markers",
         "name": "",
         "showlegend": false,
         "subplot": "mapbox",
         "type": "scattermapbox"
        }
       ],
       "layout": {
        "coloraxis": {
         "colorbar": {
          "title": {
           "text": "dif_from_optimum"
          }
         },
         "colorscale": [
          [
           0,
           "rgb(255,0,0)"
          ],
          [
           1,
           "rgb(0,0,255)"
          ]
         ]
        },
        "legend": {
         "itemsizing": "constant",
         "tracegroupgap": 0
        },
        "mapbox": {
         "center": {
          "lat": 43.19708952,
          "lon": 4.92069464
         },
         "domain": {
          "x": [
           0,
           1
          ],
          "y": [
           0,
           1
          ]
         },
         "style": "open-street-map",
         "zoom": 4
        },
        "margin": {
         "t": 60
        },
        "template": {
         "data": {
          "bar": [
           {
            "error_x": {
             "color": "#2a3f5f"
            },
            "error_y": {
             "color": "#2a3f5f"
            },
            "marker": {
             "line": {
              "color": "#E5ECF6",
              "width": 0.5
             },
             "pattern": {
              "fillmode": "overlay",
              "size": 10,
              "solidity": 0.2
             }
            },
            "type": "bar"
           }
          ],
          "barpolar": [
           {
            "marker": {
             "line": {
              "color": "#E5ECF6",
              "width": 0.5
             },
             "pattern": {
              "fillmode": "overlay",
              "size": 10,
              "solidity": 0.2
             }
            },
            "type": "barpolar"
           }
          ],
          "carpet": [
           {
            "aaxis": {
             "endlinecolor": "#2a3f5f",
             "gridcolor": "white",
             "linecolor": "white",
             "minorgridcolor": "white",
             "startlinecolor": "#2a3f5f"
            },
            "baxis": {
             "endlinecolor": "#2a3f5f",
             "gridcolor": "white",
             "linecolor": "white",
             "minorgridcolor": "white",
             "startlinecolor": "#2a3f5f"
            },
            "type": "carpet"
           }
          ],
          "choropleth": [
           {
            "colorbar": {
             "outlinewidth": 0,
             "ticks": ""
            },
            "type": "choropleth"
           }
          ],
          "contour": [
           {
            "colorbar": {
             "outlinewidth": 0,
             "ticks": ""
            },
            "colorscale": [
             [
              0,
              "#0d0887"
             ],
             [
              0.1111111111111111,
              "#46039f"
             ],
             [
              0.2222222222222222,
              "#7201a8"
             ],
             [
              0.3333333333333333,
              "#9c179e"
             ],
             [
              0.4444444444444444,
              "#bd3786"
             ],
             [
              0.5555555555555556,
              "#d8576b"
             ],
             [
              0.6666666666666666,
              "#ed7953"
             ],
             [
              0.7777777777777778,
              "#fb9f3a"
             ],
             [
              0.8888888888888888,
              "#fdca26"
             ],
             [
              1,
              "#f0f921"
             ]
            ],
            "type": "contour"
           }
          ],
          "contourcarpet": [
           {
            "colorbar": {
             "outlinewidth": 0,
             "ticks": ""
            },
            "type": "contourcarpet"
           }
          ],
          "heatmap": [
           {
            "colorbar": {
             "outlinewidth": 0,
             "ticks": ""
            },
            "colorscale": [
             [
              0,
              "#0d0887"
             ],
             [
              0.1111111111111111,
              "#46039f"
             ],
             [
              0.2222222222222222,
              "#7201a8"
             ],
             [
              0.3333333333333333,
              "#9c179e"
             ],
             [
              0.4444444444444444,
              "#bd3786"
             ],
             [
              0.5555555555555556,
              "#d8576b"
             ],
             [
              0.6666666666666666,
              "#ed7953"
             ],
             [
              0.7777777777777778,
              "#fb9f3a"
             ],
             [
              0.8888888888888888,
              "#fdca26"
             ],
             [
              1,
              "#f0f921"
             ]
            ],
            "type": "heatmap"
           }
          ],
          "heatmapgl": [
           {
            "colorbar": {
             "outlinewidth": 0,
             "ticks": ""
            },
            "colorscale": [
             [
              0,
              "#0d0887"
             ],
             [
              0.1111111111111111,
              "#46039f"
             ],
             [
              0.2222222222222222,
              "#7201a8"
             ],
             [
              0.3333333333333333,
              "#9c179e"
             ],
             [
              0.4444444444444444,
              "#bd3786"
             ],
             [
              0.5555555555555556,
              "#d8576b"
             ],
             [
              0.6666666666666666,
              "#ed7953"
             ],
             [
              0.7777777777777778,
              "#fb9f3a"
             ],
             [
              0.8888888888888888,
              "#fdca26"
             ],
             [
              1,
              "#f0f921"
             ]
            ],
            "type": "heatmapgl"
           }
          ],
          "histogram": [
           {
            "marker": {
             "pattern": {
              "fillmode": "overlay",
              "size": 10,
              "solidity": 0.2
             }
            },
            "type": "histogram"
           }
          ],
          "histogram2d": [
           {
            "colorbar": {
             "outlinewidth": 0,
             "ticks": ""
            },
            "colorscale": [
             [
              0,
              "#0d0887"
             ],
             [
              0.1111111111111111,
              "#46039f"
             ],
             [
              0.2222222222222222,
              "#7201a8"
             ],
             [
              0.3333333333333333,
              "#9c179e"
             ],
             [
              0.4444444444444444,
              "#bd3786"
             ],
             [
              0.5555555555555556,
              "#d8576b"
             ],
             [
              0.6666666666666666,
              "#ed7953"
             ],
             [
              0.7777777777777778,
              "#fb9f3a"
             ],
             [
              0.8888888888888888,
              "#fdca26"
             ],
             [
              1,
              "#f0f921"
             ]
            ],
            "type": "histogram2d"
           }
          ],
          "histogram2dcontour": [
           {
            "colorbar": {
             "outlinewidth": 0,
             "ticks": ""
            },
            "colorscale": [
             [
              0,
              "#0d0887"
             ],
             [
              0.1111111111111111,
              "#46039f"
             ],
             [
              0.2222222222222222,
              "#7201a8"
             ],
             [
              0.3333333333333333,
              "#9c179e"
             ],
             [
              0.4444444444444444,
              "#bd3786"
             ],
             [
              0.5555555555555556,
              "#d8576b"
             ],
             [
              0.6666666666666666,
              "#ed7953"
             ],
             [
              0.7777777777777778,
              "#fb9f3a"
             ],
             [
              0.8888888888888888,
              "#fdca26"
             ],
             [
              1,
              "#f0f921"
             ]
            ],
            "type": "histogram2dcontour"
           }
          ],
          "mesh3d": [
           {
            "colorbar": {
             "outlinewidth": 0,
             "ticks": ""
            },
            "type": "mesh3d"
           }
          ],
          "parcoords": [
           {
            "line": {
             "colorbar": {
              "outlinewidth": 0,
              "ticks": ""
             }
            },
            "type": "parcoords"
           }
          ],
          "pie": [
           {
            "automargin": true,
            "type": "pie"
           }
          ],
          "scatter": [
           {
            "fillpattern": {
             "fillmode": "overlay",
             "size": 10,
             "solidity": 0.2
            },
            "type": "scatter"
           }
          ],
          "scatter3d": [
           {
            "line": {
             "colorbar": {
              "outlinewidth": 0,
              "ticks": ""
             }
            },
            "marker": {
             "colorbar": {
              "outlinewidth": 0,
              "ticks": ""
             }
            },
            "type": "scatter3d"
           }
          ],
          "scattercarpet": [
           {
            "marker": {
             "colorbar": {
              "outlinewidth": 0,
              "ticks": ""
             }
            },
            "type": "scattercarpet"
           }
          ],
          "scattergeo": [
           {
            "marker": {
             "colorbar": {
              "outlinewidth": 0,
              "ticks": ""
             }
            },
            "type": "scattergeo"
           }
          ],
          "scattergl": [
           {
            "marker": {
             "colorbar": {
              "outlinewidth": 0,
              "ticks": ""
             }
            },
            "type": "scattergl"
           }
          ],
          "scattermapbox": [
           {
            "marker": {
             "colorbar": {
              "outlinewidth": 0,
              "ticks": ""
             }
            },
            "type": "scattermapbox"
           }
          ],
          "scatterpolar": [
           {
            "marker": {
             "colorbar": {
              "outlinewidth": 0,
              "ticks": ""
             }
            },
            "type": "scatterpolar"
           }
          ],
          "scatterpolargl": [
           {
            "marker": {
             "colorbar": {
              "outlinewidth": 0,
              "ticks": ""
             }
            },
            "type": "scatterpolargl"
           }
          ],
          "scatterternary": [
           {
            "marker": {
             "colorbar": {
              "outlinewidth": 0,
              "ticks": ""
             }
            },
            "type": "scatterternary"
           }
          ],
          "surface": [
           {
            "colorbar": {
             "outlinewidth": 0,
             "ticks": ""
            },
            "colorscale": [
             [
              0,
              "#0d0887"
             ],
             [
              0.1111111111111111,
              "#46039f"
             ],
             [
              0.2222222222222222,
              "#7201a8"
             ],
             [
              0.3333333333333333,
              "#9c179e"
             ],
             [
              0.4444444444444444,
              "#bd3786"
             ],
             [
              0.5555555555555556,
              "#d8576b"
             ],
             [
              0.6666666666666666,
              "#ed7953"
             ],
             [
              0.7777777777777778,
              "#fb9f3a"
             ],
             [
              0.8888888888888888,
              "#fdca26"
             ],
             [
              1,
              "#f0f921"
             ]
            ],
            "type": "surface"
           }
          ],
          "table": [
           {
            "cells": {
             "fill": {
              "color": "#EBF0F8"
             },
             "line": {
              "color": "white"
             }
            },
            "header": {
             "fill": {
              "color": "#C8D4E3"
             },
             "line": {
              "color": "white"
             }
            },
            "type": "table"
           }
          ]
         },
         "layout": {
          "annotationdefaults": {
           "arrowcolor": "#2a3f5f",
           "arrowhead": 0,
           "arrowwidth": 1
          },
          "autotypenumbers": "strict",
          "coloraxis": {
           "colorbar": {
            "outlinewidth": 0,
            "ticks": ""
           }
          },
          "colorscale": {
           "diverging": [
            [
             0,
             "#8e0152"
            ],
            [
             0.1,
             "#c51b7d"
            ],
            [
             0.2,
             "#de77ae"
            ],
            [
             0.3,
             "#f1b6da"
            ],
            [
             0.4,
             "#fde0ef"
            ],
            [
             0.5,
             "#f7f7f7"
            ],
            [
             0.6,
             "#e6f5d0"
            ],
            [
             0.7,
             "#b8e186"
            ],
            [
             0.8,
             "#7fbc41"
            ],
            [
             0.9,
             "#4d9221"
            ],
            [
             1,
             "#276419"
            ]
           ],
           "sequential": [
            [
             0,
             "#0d0887"
            ],
            [
             0.1111111111111111,
             "#46039f"
            ],
            [
             0.2222222222222222,
             "#7201a8"
            ],
            [
             0.3333333333333333,
             "#9c179e"
            ],
            [
             0.4444444444444444,
             "#bd3786"
            ],
            [
             0.5555555555555556,
             "#d8576b"
            ],
            [
             0.6666666666666666,
             "#ed7953"
            ],
            [
             0.7777777777777778,
             "#fb9f3a"
            ],
            [
             0.8888888888888888,
             "#fdca26"
            ],
            [
             1,
             "#f0f921"
            ]
           ],
           "sequentialminus": [
            [
             0,
             "#0d0887"
            ],
            [
             0.1111111111111111,
             "#46039f"
            ],
            [
             0.2222222222222222,
             "#7201a8"
            ],
            [
             0.3333333333333333,
             "#9c179e"
            ],
            [
             0.4444444444444444,
             "#bd3786"
            ],
            [
             0.5555555555555556,
             "#d8576b"
            ],
            [
             0.6666666666666666,
             "#ed7953"
            ],
            [
             0.7777777777777778,
             "#fb9f3a"
            ],
            [
             0.8888888888888888,
             "#fdca26"
            ],
            [
             1,
             "#f0f921"
            ]
           ]
          },
          "colorway": [
           "#636efa",
           "#EF553B",
           "#00cc96",
           "#ab63fa",
           "#FFA15A",
           "#19d3f3",
           "#FF6692",
           "#B6E880",
           "#FF97FF",
           "#FECB52"
          ],
          "font": {
           "color": "#2a3f5f"
          },
          "geo": {
           "bgcolor": "white",
           "lakecolor": "white",
           "landcolor": "#E5ECF6",
           "showlakes": true,
           "showland": true,
           "subunitcolor": "white"
          },
          "hoverlabel": {
           "align": "left"
          },
          "hovermode": "closest",
          "mapbox": {
           "style": "light"
          },
          "paper_bgcolor": "white",
          "plot_bgcolor": "#E5ECF6",
          "polar": {
           "angularaxis": {
            "gridcolor": "white",
            "linecolor": "white",
            "ticks": ""
           },
           "bgcolor": "#E5ECF6",
           "radialaxis": {
            "gridcolor": "white",
            "linecolor": "white",
            "ticks": ""
           }
          },
          "scene": {
           "xaxis": {
            "backgroundcolor": "#E5ECF6",
            "gridcolor": "white",
            "gridwidth": 2,
            "linecolor": "white",
            "showbackground": true,
            "ticks": "",
            "zerolinecolor": "white"
           },
           "yaxis": {
            "backgroundcolor": "#E5ECF6",
            "gridcolor": "white",
            "gridwidth": 2,
            "linecolor": "white",
            "showbackground": true,
            "ticks": "",
            "zerolinecolor": "white"
           },
           "zaxis": {
            "backgroundcolor": "#E5ECF6",
            "gridcolor": "white",
            "gridwidth": 2,
            "linecolor": "white",
            "showbackground": true,
            "ticks": "",
            "zerolinecolor": "white"
           }
          },
          "shapedefaults": {
           "line": {
            "color": "#2a3f5f"
           }
          },
          "ternary": {
           "aaxis": {
            "gridcolor": "white",
            "linecolor": "white",
            "ticks": ""
           },
           "baxis": {
            "gridcolor": "white",
            "linecolor": "white",
            "ticks": ""
           },
           "bgcolor": "#E5ECF6",
           "caxis": {
            "gridcolor": "white",
            "linecolor": "white",
            "ticks": ""
           }
          },
          "title": {
           "x": 0.05
          },
          "xaxis": {
           "automargin": true,
           "gridcolor": "white",
           "linecolor": "white",
           "ticks": "",
           "title": {
            "standoff": 15
           },
           "zerolinecolor": "white",
           "zerolinewidth": 2
          },
          "yaxis": {
           "automargin": true,
           "gridcolor": "white",
           "linecolor": "white",
           "ticks": "",
           "title": {
            "standoff": 15
           },
           "zerolinecolor": "white",
           "zerolinewidth": 2
          }
         }
        }
       }
      }
     },
     "metadata": {},
     "output_type": "display_data"
    }
   ],
   "source": [
    "fig = px.scatter_mapbox(weekly_forecast_by_city.loc[weekly_forecast_by_city['city_name'].isin(best_cities)], \n",
    "                        lat=\"city_latitude\", lon=\"city_longtitude\", color_continuous_scale=px.colors.sequential.Bluered_r,\n",
    "                        hover_name=\"city_name\", size = \"temp_day\", color=\"dif_from_optimum\", zoom=4, mapbox_style=\"open-street-map\")\n",
    "fig.show()"
   ]
  },
  {
   "attachments": {},
   "cell_type": "markdown",
   "metadata": {},
   "source": [
    "Among the hotels situated in 5 best cities, let us choose 20 hotels with the best scores."
   ]
  },
  {
   "cell_type": "code",
   "execution_count": 8,
   "metadata": {},
   "outputs": [
    {
     "data": {
      "text/html": [
       "<div>\n",
       "<style scoped>\n",
       "    .dataframe tbody tr th:only-of-type {\n",
       "        vertical-align: middle;\n",
       "    }\n",
       "\n",
       "    .dataframe tbody tr th {\n",
       "        vertical-align: top;\n",
       "    }\n",
       "\n",
       "    .dataframe thead th {\n",
       "        text-align: right;\n",
       "    }\n",
       "</style>\n",
       "<table border=\"1\" class=\"dataframe\">\n",
       "  <thead>\n",
       "    <tr style=\"text-align: right;\">\n",
       "      <th></th>\n",
       "      <th>hotel_name</th>\n",
       "      <th>city_id</th>\n",
       "      <th>city_latitude</th>\n",
       "      <th>city_longtitude</th>\n",
       "      <th>score</th>\n",
       "      <th>hotel_latitude</th>\n",
       "      <th>hotel_longtitude</th>\n",
       "      <th>weather_id</th>\n",
       "      <th>pressure</th>\n",
       "      <th>humidity</th>\n",
       "      <th>...</th>\n",
       "      <th>temp_day</th>\n",
       "      <th>temp_min</th>\n",
       "      <th>temp_max</th>\n",
       "      <th>temp_night</th>\n",
       "      <th>temp_eve</th>\n",
       "      <th>temp_morn</th>\n",
       "      <th>feels_like_day</th>\n",
       "      <th>feels_like_night</th>\n",
       "      <th>feels_like_eve</th>\n",
       "      <th>feels_like_morn</th>\n",
       "    </tr>\n",
       "  </thead>\n",
       "  <tbody>\n",
       "    <tr>\n",
       "      <th>0</th>\n",
       "      <td>Lilie House</td>\n",
       "      <td>297749145.0</td>\n",
       "      <td>43.150697</td>\n",
       "      <td>6.341928</td>\n",
       "      <td>10.0</td>\n",
       "      <td>43.150903</td>\n",
       "      <td>6.341933</td>\n",
       "      <td>587.285714</td>\n",
       "      <td>1009.571429</td>\n",
       "      <td>69.142857</td>\n",
       "      <td>...</td>\n",
       "      <td>11.664286</td>\n",
       "      <td>7.807143</td>\n",
       "      <td>12.060000</td>\n",
       "      <td>8.587143</td>\n",
       "      <td>9.978571</td>\n",
       "      <td>8.774286</td>\n",
       "      <td>9.548571</td>\n",
       "      <td>6.188571</td>\n",
       "      <td>7.774286</td>\n",
       "      <td>6.338571</td>\n",
       "    </tr>\n",
       "    <tr>\n",
       "      <th>1</th>\n",
       "      <td>CALANQUE DE PORT PIN</td>\n",
       "      <td>298072685.0</td>\n",
       "      <td>43.214036</td>\n",
       "      <td>5.539632</td>\n",
       "      <td>10.0</td>\n",
       "      <td>43.214591</td>\n",
       "      <td>5.537868</td>\n",
       "      <td>630.571429</td>\n",
       "      <td>1009.571429</td>\n",
       "      <td>67.285714</td>\n",
       "      <td>...</td>\n",
       "      <td>11.118571</td>\n",
       "      <td>8.581429</td>\n",
       "      <td>11.998571</td>\n",
       "      <td>9.560000</td>\n",
       "      <td>10.850000</td>\n",
       "      <td>9.227143</td>\n",
       "      <td>8.992857</td>\n",
       "      <td>7.941429</td>\n",
       "      <td>9.371429</td>\n",
       "      <td>7.178571</td>\n",
       "    </tr>\n",
       "    <tr>\n",
       "      <th>2</th>\n",
       "      <td>Marcelle en Camargue</td>\n",
       "      <td>298018344.0</td>\n",
       "      <td>43.565823</td>\n",
       "      <td>4.191284</td>\n",
       "      <td>9.9</td>\n",
       "      <td>43.566156</td>\n",
       "      <td>4.192345</td>\n",
       "      <td>663.142857</td>\n",
       "      <td>1011.142857</td>\n",
       "      <td>75.000000</td>\n",
       "      <td>...</td>\n",
       "      <td>9.617143</td>\n",
       "      <td>6.437143</td>\n",
       "      <td>10.471429</td>\n",
       "      <td>7.922857</td>\n",
       "      <td>9.142857</td>\n",
       "      <td>7.092857</td>\n",
       "      <td>7.555714</td>\n",
       "      <td>5.272857</td>\n",
       "      <td>6.948571</td>\n",
       "      <td>4.598571</td>\n",
       "    </tr>\n",
       "    <tr>\n",
       "      <th>3</th>\n",
       "      <td>Sublime Apt With Wifi In The Heart Of The City!</td>\n",
       "      <td>297906924.0</td>\n",
       "      <td>43.529842</td>\n",
       "      <td>5.447474</td>\n",
       "      <td>9.7</td>\n",
       "      <td>43.527615</td>\n",
       "      <td>5.447049</td>\n",
       "      <td>646.571429</td>\n",
       "      <td>1009.714286</td>\n",
       "      <td>62.285714</td>\n",
       "      <td>...</td>\n",
       "      <td>10.554286</td>\n",
       "      <td>6.537143</td>\n",
       "      <td>11.868571</td>\n",
       "      <td>7.798571</td>\n",
       "      <td>9.584286</td>\n",
       "      <td>7.084286</td>\n",
       "      <td>9.402857</td>\n",
       "      <td>6.341429</td>\n",
       "      <td>8.368571</td>\n",
       "      <td>5.612857</td>\n",
       "    </tr>\n",
       "    <tr>\n",
       "      <th>4</th>\n",
       "      <td>Allées Provençales</td>\n",
       "      <td>297906924.0</td>\n",
       "      <td>43.529842</td>\n",
       "      <td>5.447474</td>\n",
       "      <td>9.7</td>\n",
       "      <td>43.526634</td>\n",
       "      <td>5.442878</td>\n",
       "      <td>646.571429</td>\n",
       "      <td>1009.714286</td>\n",
       "      <td>62.285714</td>\n",
       "      <td>...</td>\n",
       "      <td>10.554286</td>\n",
       "      <td>6.537143</td>\n",
       "      <td>11.868571</td>\n",
       "      <td>7.798571</td>\n",
       "      <td>9.584286</td>\n",
       "      <td>7.084286</td>\n",
       "      <td>9.402857</td>\n",
       "      <td>6.341429</td>\n",
       "      <td>8.368571</td>\n",
       "      <td>5.612857</td>\n",
       "    </tr>\n",
       "  </tbody>\n",
       "</table>\n",
       "<p>5 rows × 29 columns</p>\n",
       "</div>"
      ],
      "text/plain": [
       "                                        hotel_name      city_id  \\\n",
       "0                                      Lilie House  297749145.0   \n",
       "1                             CALANQUE DE PORT PIN  298072685.0   \n",
       "2                             Marcelle en Camargue  298018344.0   \n",
       "3  Sublime Apt With Wifi In The Heart Of The City!  297906924.0   \n",
       "4                               Allées Provençales  297906924.0   \n",
       "\n",
       "   city_latitude  city_longtitude  score  hotel_latitude  hotel_longtitude  \\\n",
       "0      43.150697         6.341928   10.0       43.150903          6.341933   \n",
       "1      43.214036         5.539632   10.0       43.214591          5.537868   \n",
       "2      43.565823         4.191284    9.9       43.566156          4.192345   \n",
       "3      43.529842         5.447474    9.7       43.527615          5.447049   \n",
       "4      43.529842         5.447474    9.7       43.526634          5.442878   \n",
       "\n",
       "   weather_id     pressure   humidity  ...   temp_day  temp_min   temp_max  \\\n",
       "0  587.285714  1009.571429  69.142857  ...  11.664286  7.807143  12.060000   \n",
       "1  630.571429  1009.571429  67.285714  ...  11.118571  8.581429  11.998571   \n",
       "2  663.142857  1011.142857  75.000000  ...   9.617143  6.437143  10.471429   \n",
       "3  646.571429  1009.714286  62.285714  ...  10.554286  6.537143  11.868571   \n",
       "4  646.571429  1009.714286  62.285714  ...  10.554286  6.537143  11.868571   \n",
       "\n",
       "   temp_night   temp_eve  temp_morn  feels_like_day  feels_like_night  \\\n",
       "0    8.587143   9.978571   8.774286        9.548571          6.188571   \n",
       "1    9.560000  10.850000   9.227143        8.992857          7.941429   \n",
       "2    7.922857   9.142857   7.092857        7.555714          5.272857   \n",
       "3    7.798571   9.584286   7.084286        9.402857          6.341429   \n",
       "4    7.798571   9.584286   7.084286        9.402857          6.341429   \n",
       "\n",
       "   feels_like_eve  feels_like_morn  \n",
       "0        7.774286         6.338571  \n",
       "1        9.371429         7.178571  \n",
       "2        6.948571         4.598571  \n",
       "3        8.368571         5.612857  \n",
       "4        8.368571         5.612857  \n",
       "\n",
       "[5 rows x 29 columns]"
      ]
     },
     "execution_count": 8,
     "metadata": {},
     "output_type": "execute_result"
    }
   ],
   "source": [
    "best_hotels_df = kayak_df[kayak_df['city_name'].isin(best_cities)].groupby(['hotel_name']).mean(numeric_only=True).sort_values(by=['score'], ascending=False).reset_index()[:20]\n",
    "best_hotels_df.head()"
   ]
  },
  {
   "cell_type": "code",
   "execution_count": 9,
   "metadata": {},
   "outputs": [
    {
     "data": {
      "text/plain": [
       "['Lilie House',\n",
       " 'CALANQUE DE PORT PIN',\n",
       " 'Marcelle en Camargue',\n",
       " 'Sublime Apt With Wifi In The Heart Of The City!',\n",
       " 'Allées Provençales']"
      ]
     },
     "execution_count": 9,
     "metadata": {},
     "output_type": "execute_result"
    }
   ],
   "source": [
    "best_hotels = best_hotels_df[\"hotel_name\"].tolist()\n",
    "\n",
    "# Displaying names of 5 hotels with the best score\n",
    "best_hotels[:5]"
   ]
  },
  {
   "attachments": {},
   "cell_type": "markdown",
   "metadata": {},
   "source": [
    "Creating a map that shows top-20 hotels in the area"
   ]
  },
  {
   "cell_type": "code",
   "execution_count": 10,
   "metadata": {},
   "outputs": [
    {
     "data": {
      "application/vnd.plotly.v1+json": {
       "config": {
        "plotlyServerURL": "https://plot.ly"
       },
       "data": [
        {
         "hovertemplate": "<b>%{hovertext}</b><br><br>score=%{marker.color}<br>hotel_latitude=%{lat}<br>hotel_longtitude=%{lon}<extra></extra>",
         "hovertext": [
          "spity",
          "spity",
          "spity",
          "spity",
          "spity",
          "spity",
          "spity",
          "Superbe appartement de caractère au calme",
          "Superbe appartement de caractère au calme",
          "Superbe appartement de caractère au calme",
          "Superbe appartement de caractère au calme",
          "Superbe appartement de caractère au calme",
          "Superbe appartement de caractère au calme",
          "Superbe appartement de caractère au calme",
          "Bel Appartement Terrasse 4 Étoiles Intra Muros",
          "Bel Appartement Terrasse 4 Étoiles Intra Muros",
          "Bel Appartement Terrasse 4 Étoiles Intra Muros",
          "Bel Appartement Terrasse 4 Étoiles Intra Muros",
          "Bel Appartement Terrasse 4 Étoiles Intra Muros",
          "Bel Appartement Terrasse 4 Étoiles Intra Muros",
          "Bel Appartement Terrasse 4 Étoiles Intra Muros",
          "Boutique Hôtel des Remparts & Spa",
          "Boutique Hôtel des Remparts & Spa",
          "Boutique Hôtel des Remparts & Spa",
          "Boutique Hôtel des Remparts & Spa",
          "Boutique Hôtel des Remparts & Spa",
          "Boutique Hôtel des Remparts & Spa",
          "Boutique Hôtel des Remparts & Spa",
          "La maison de Marie, maison de ville 4 personnes, option chambre patio 2 pers supp",
          "La maison de Marie, maison de ville 4 personnes, option chambre patio 2 pers supp",
          "La maison de Marie, maison de ville 4 personnes, option chambre patio 2 pers supp",
          "La maison de Marie, maison de ville 4 personnes, option chambre patio 2 pers supp",
          "La maison de Marie, maison de ville 4 personnes, option chambre patio 2 pers supp",
          "La maison de Marie, maison de ville 4 personnes, option chambre patio 2 pers supp",
          "La maison de Marie, maison de ville 4 personnes, option chambre patio 2 pers supp",
          "App design au centre des remparts d’Aigues-Mortes.",
          "App design au centre des remparts d’Aigues-Mortes.",
          "App design au centre des remparts d’Aigues-Mortes.",
          "App design au centre des remparts d’Aigues-Mortes.",
          "App design au centre des remparts d’Aigues-Mortes.",
          "App design au centre des remparts d’Aigues-Mortes.",
          "App design au centre des remparts d’Aigues-Mortes.",
          "Nouveau! Magnifique appartement climatisé",
          "Nouveau! Magnifique appartement climatisé",
          "Nouveau! Magnifique appartement climatisé",
          "Nouveau! Magnifique appartement climatisé",
          "Nouveau! Magnifique appartement climatisé",
          "Nouveau! Magnifique appartement climatisé",
          "Nouveau! Magnifique appartement climatisé",
          "Ô 36 Rempart Sud B&B",
          "Ô 36 Rempart Sud B&B",
          "Ô 36 Rempart Sud B&B",
          "Ô 36 Rempart Sud B&B",
          "Ô 36 Rempart Sud B&B",
          "Ô 36 Rempart Sud B&B",
          "Ô 36 Rempart Sud B&B",
          "Marcelle en Camargue",
          "Marcelle en Camargue",
          "Marcelle en Camargue",
          "Marcelle en Camargue",
          "Marcelle en Camargue",
          "Marcelle en Camargue",
          "Marcelle en Camargue",
          "Sublime Apt With Wifi In The Heart Of The City!",
          "Sublime Apt With Wifi In The Heart Of The City!",
          "Sublime Apt With Wifi In The Heart Of The City!",
          "Sublime Apt With Wifi In The Heart Of The City!",
          "Sublime Apt With Wifi In The Heart Of The City!",
          "Sublime Apt With Wifi In The Heart Of The City!",
          "Sublime Apt With Wifi In The Heart Of The City!",
          "Allées Provençales",
          "Allées Provençales",
          "Allées Provençales",
          "Allées Provençales",
          "Allées Provençales",
          "Allées Provençales",
          "Allées Provençales",
          "Nice Studio 20 M Near The Place D'albertas!",
          "Nice Studio 20 M Near The Place D'albertas!",
          "Nice Studio 20 M Near The Place D'albertas!",
          "Nice Studio 20 M Near The Place D'albertas!",
          "Nice Studio 20 M Near The Place D'albertas!",
          "Nice Studio 20 M Near The Place D'albertas!",
          "Nice Studio 20 M Near The Place D'albertas!",
          "Lilie House",
          "Lilie House",
          "Lilie House",
          "Lilie House",
          "Lilie House",
          "Lilie House",
          "Lilie House",
          "The Little House",
          "The Little House",
          "The Little House",
          "The Little House",
          "The Little House",
          "The Little House",
          "The Little House",
          "L'appart Isa&Marc T2 avec rez-de-jardin (bus aéroport) tout équipé pour 4 personnes;",
          "L'appart Isa&Marc T2 avec rez-de-jardin (bus aéroport) tout équipé pour 4 personnes;",
          "L'appart Isa&Marc T2 avec rez-de-jardin (bus aéroport) tout équipé pour 4 personnes;",
          "L'appart Isa&Marc T2 avec rez-de-jardin (bus aéroport) tout équipé pour 4 personnes;",
          "L'appart Isa&Marc T2 avec rez-de-jardin (bus aéroport) tout équipé pour 4 personnes;",
          "L'appart Isa&Marc T2 avec rez-de-jardin (bus aéroport) tout équipé pour 4 personnes;",
          "L'appart Isa&Marc T2 avec rez-de-jardin (bus aéroport) tout équipé pour 4 personnes;",
          "Les Oliviers",
          "Les Oliviers",
          "Les Oliviers",
          "Les Oliviers",
          "Les Oliviers",
          "Les Oliviers",
          "Les Oliviers",
          "CALANQUE DE PORT PIN",
          "CALANQUE DE PORT PIN",
          "CALANQUE DE PORT PIN",
          "CALANQUE DE PORT PIN",
          "CALANQUE DE PORT PIN",
          "CALANQUE DE PORT PIN",
          "CALANQUE DE PORT PIN",
          "Les Suites de Collioure",
          "Les Suites de Collioure",
          "Les Suites de Collioure",
          "Les Suites de Collioure",
          "Les Suites de Collioure",
          "Les Suites de Collioure",
          "Les Suites de Collioure",
          "La Casa Machado 1",
          "La Casa Machado 1",
          "La Casa Machado 1",
          "La Casa Machado 1",
          "La Casa Machado 1",
          "La Casa Machado 1",
          "La Casa Machado 1",
          "La Casa Machado 2",
          "La Casa Machado 2",
          "La Casa Machado 2",
          "La Casa Machado 2",
          "La Casa Machado 2",
          "La Casa Machado 2",
          "La Casa Machado 2"
         ],
         "lat": [
          43.5663635,
          43.5663635,
          43.5663635,
          43.5663635,
          43.5663635,
          43.5663635,
          43.5663635,
          43.566959,
          43.566959,
          43.566959,
          43.566959,
          43.566959,
          43.566959,
          43.566959,
          43.56718677,
          43.56718677,
          43.56718677,
          43.56718677,
          43.56718677,
          43.56718677,
          43.56718677,
          43.56803552,
          43.56803552,
          43.56803552,
          43.56803552,
          43.56803552,
          43.56803552,
          43.56803552,
          43.56689178,
          43.56689178,
          43.56689178,
          43.56689178,
          43.56689178,
          43.56689178,
          43.56689178,
          43.56596324,
          43.56596324,
          43.56596324,
          43.56596324,
          43.56596324,
          43.56596324,
          43.56596324,
          43.5656945,
          43.5656945,
          43.5656945,
          43.5656945,
          43.5656945,
          43.5656945,
          43.5656945,
          43.565764,
          43.565764,
          43.565764,
          43.565764,
          43.565764,
          43.565764,
          43.565764,
          43.5661556,
          43.5661556,
          43.5661556,
          43.5661556,
          43.5661556,
          43.5661556,
          43.5661556,
          43.527615,
          43.527615,
          43.527615,
          43.527615,
          43.527615,
          43.527615,
          43.527615,
          43.52663445,
          43.52663445,
          43.52663445,
          43.52663445,
          43.52663445,
          43.52663445,
          43.52663445,
          43.52759,
          43.52759,
          43.52759,
          43.52759,
          43.52759,
          43.52759,
          43.52759,
          43.1509034,
          43.1509034,
          43.1509034,
          43.1509034,
          43.1509034,
          43.1509034,
          43.1509034,
          43.15036081,
          43.15036081,
          43.15036081,
          43.15036081,
          43.15036081,
          43.15036081,
          43.15036081,
          43.14450993,
          43.14450993,
          43.14450993,
          43.14450993,
          43.14450993,
          43.14450993,
          43.14450993,
          43.2154242,
          43.2154242,
          43.2154242,
          43.2154242,
          43.2154242,
          43.2154242,
          43.2154242,
          43.21459053,
          43.21459053,
          43.21459053,
          43.21459053,
          43.21459053,
          43.21459053,
          43.21459053,
          42.52439,
          42.52439,
          42.52439,
          42.52439,
          42.52439,
          42.52439,
          42.52439,
          42.52610278,
          42.52610278,
          42.52610278,
          42.52610278,
          42.52610278,
          42.52610278,
          42.52610278,
          42.52615566,
          42.52615566,
          42.52615566,
          42.52615566,
          42.52615566,
          42.52615566,
          42.52615566
         ],
         "legendgroup": "",
         "lon": [
          4.190119,
          4.190119,
          4.190119,
          4.190119,
          4.190119,
          4.190119,
          4.190119,
          4.1909484,
          4.1909484,
          4.1909484,
          4.1909484,
          4.1909484,
          4.1909484,
          4.1909484,
          4.19134417,
          4.19134417,
          4.19134417,
          4.19134417,
          4.19134417,
          4.19134417,
          4.19134417,
          4.1903438,
          4.1903438,
          4.1903438,
          4.1903438,
          4.1903438,
          4.1903438,
          4.1903438,
          4.19211567,
          4.19211567,
          4.19211567,
          4.19211567,
          4.19211567,
          4.19211567,
          4.19211567,
          4.19175802,
          4.19175802,
          4.19175802,
          4.19175802,
          4.19175802,
          4.19175802,
          4.19175802,
          4.19151132,
          4.19151132,
          4.19151132,
          4.19151132,
          4.19151132,
          4.19151132,
          4.19151132,
          4.188757,
          4.188757,
          4.188757,
          4.188757,
          4.188757,
          4.188757,
          4.188757,
          4.192345,
          4.192345,
          4.192345,
          4.192345,
          4.192345,
          4.192345,
          4.192345,
          5.447049,
          5.447049,
          5.447049,
          5.447049,
          5.447049,
          5.447049,
          5.447049,
          5.44287801,
          5.44287801,
          5.44287801,
          5.44287801,
          5.44287801,
          5.44287801,
          5.44287801,
          5.447581,
          5.447581,
          5.447581,
          5.447581,
          5.447581,
          5.447581,
          5.447581,
          6.3419325,
          6.3419325,
          6.3419325,
          6.3419325,
          6.3419325,
          6.3419325,
          6.3419325,
          6.34220201,
          6.34220201,
          6.34220201,
          6.34220201,
          6.34220201,
          6.34220201,
          6.34220201,
          6.33768565,
          6.33768565,
          6.33768565,
          6.33768565,
          6.33768565,
          6.33768565,
          6.33768565,
          5.5363826,
          5.5363826,
          5.5363826,
          5.5363826,
          5.5363826,
          5.5363826,
          5.5363826,
          5.53786767,
          5.53786767,
          5.53786767,
          5.53786767,
          5.53786767,
          5.53786767,
          5.53786767,
          3.082726,
          3.082726,
          3.082726,
          3.082726,
          3.082726,
          3.082726,
          3.082726,
          3.082031,
          3.082031,
          3.082031,
          3.082031,
          3.082031,
          3.082031,
          3.082031,
          3.08223283,
          3.08223283,
          3.08223283,
          3.08223283,
          3.08223283,
          3.08223283,
          3.08223283
         ],
         "marker": {
          "color": [
           9.2,
           9.2,
           9.2,
           9.2,
           9.2,
           9.2,
           9.2,
           9.5,
           9.5,
           9.5,
           9.5,
           9.5,
           9.5,
           9.5,
           9.2,
           9.2,
           9.2,
           9.2,
           9.2,
           9.2,
           9.2,
           9.5,
           9.5,
           9.5,
           9.5,
           9.5,
           9.5,
           9.5,
           9.2,
           9.2,
           9.2,
           9.2,
           9.2,
           9.2,
           9.2,
           9.6,
           9.6,
           9.6,
           9.6,
           9.6,
           9.6,
           9.6,
           9.3,
           9.3,
           9.3,
           9.3,
           9.3,
           9.3,
           9.3,
           9.2,
           9.2,
           9.2,
           9.2,
           9.2,
           9.2,
           9.2,
           9.9,
           9.9,
           9.9,
           9.9,
           9.9,
           9.9,
           9.9,
           9.7,
           9.7,
           9.7,
           9.7,
           9.7,
           9.7,
           9.7,
           9.7,
           9.7,
           9.7,
           9.7,
           9.7,
           9.7,
           9.7,
           9.3,
           9.3,
           9.3,
           9.3,
           9.3,
           9.3,
           9.3,
           10,
           10,
           10,
           10,
           10,
           10,
           10,
           9.4,
           9.4,
           9.4,
           9.4,
           9.4,
           9.4,
           9.4,
           9.2,
           9.2,
           9.2,
           9.2,
           9.2,
           9.2,
           9.2,
           9.5,
           9.5,
           9.5,
           9.5,
           9.5,
           9.5,
           9.5,
           10,
           10,
           10,
           10,
           10,
           10,
           10,
           9.4,
           9.4,
           9.4,
           9.4,
           9.4,
           9.4,
           9.4,
           9.5,
           9.5,
           9.5,
           9.5,
           9.5,
           9.5,
           9.5,
           9.3,
           9.3,
           9.3,
           9.3,
           9.3,
           9.3,
           9.3
          ],
          "coloraxis": "coloraxis",
          "size": [
           9.2,
           9.2,
           9.2,
           9.2,
           9.2,
           9.2,
           9.2,
           9.5,
           9.5,
           9.5,
           9.5,
           9.5,
           9.5,
           9.5,
           9.2,
           9.2,
           9.2,
           9.2,
           9.2,
           9.2,
           9.2,
           9.5,
           9.5,
           9.5,
           9.5,
           9.5,
           9.5,
           9.5,
           9.2,
           9.2,
           9.2,
           9.2,
           9.2,
           9.2,
           9.2,
           9.6,
           9.6,
           9.6,
           9.6,
           9.6,
           9.6,
           9.6,
           9.3,
           9.3,
           9.3,
           9.3,
           9.3,
           9.3,
           9.3,
           9.2,
           9.2,
           9.2,
           9.2,
           9.2,
           9.2,
           9.2,
           9.9,
           9.9,
           9.9,
           9.9,
           9.9,
           9.9,
           9.9,
           9.7,
           9.7,
           9.7,
           9.7,
           9.7,
           9.7,
           9.7,
           9.7,
           9.7,
           9.7,
           9.7,
           9.7,
           9.7,
           9.7,
           9.3,
           9.3,
           9.3,
           9.3,
           9.3,
           9.3,
           9.3,
           10,
           10,
           10,
           10,
           10,
           10,
           10,
           9.4,
           9.4,
           9.4,
           9.4,
           9.4,
           9.4,
           9.4,
           9.2,
           9.2,
           9.2,
           9.2,
           9.2,
           9.2,
           9.2,
           9.5,
           9.5,
           9.5,
           9.5,
           9.5,
           9.5,
           9.5,
           10,
           10,
           10,
           10,
           10,
           10,
           10,
           9.4,
           9.4,
           9.4,
           9.4,
           9.4,
           9.4,
           9.4,
           9.5,
           9.5,
           9.5,
           9.5,
           9.5,
           9.5,
           9.5,
           9.3,
           9.3,
           9.3,
           9.3,
           9.3,
           9.3,
           9.3
          ],
          "sizemode": "area",
          "sizeref": 0.025
         },
         "mode": "markers",
         "name": "",
         "showlegend": false,
         "subplot": "mapbox",
         "type": "scattermapbox"
        }
       ],
       "layout": {
        "coloraxis": {
         "colorbar": {
          "title": {
           "text": "score"
          }
         },
         "colorscale": [
          [
           0,
           "rgb(0,0,255)"
          ],
          [
           1,
           "rgb(255,0,0)"
          ]
         ]
        },
        "legend": {
         "itemsizing": "constant",
         "tracegroupgap": 0
        },
        "mapbox": {
         "center": {
          "lat": 43.30666453349999,
          "lon": 4.6699905325
         },
         "domain": {
          "x": [
           0,
           1
          ],
          "y": [
           0,
           1
          ]
         },
         "style": "open-street-map",
         "zoom": 4
        },
        "margin": {
         "t": 60
        },
        "template": {
         "data": {
          "bar": [
           {
            "error_x": {
             "color": "#2a3f5f"
            },
            "error_y": {
             "color": "#2a3f5f"
            },
            "marker": {
             "line": {
              "color": "#E5ECF6",
              "width": 0.5
             },
             "pattern": {
              "fillmode": "overlay",
              "size": 10,
              "solidity": 0.2
             }
            },
            "type": "bar"
           }
          ],
          "barpolar": [
           {
            "marker": {
             "line": {
              "color": "#E5ECF6",
              "width": 0.5
             },
             "pattern": {
              "fillmode": "overlay",
              "size": 10,
              "solidity": 0.2
             }
            },
            "type": "barpolar"
           }
          ],
          "carpet": [
           {
            "aaxis": {
             "endlinecolor": "#2a3f5f",
             "gridcolor": "white",
             "linecolor": "white",
             "minorgridcolor": "white",
             "startlinecolor": "#2a3f5f"
            },
            "baxis": {
             "endlinecolor": "#2a3f5f",
             "gridcolor": "white",
             "linecolor": "white",
             "minorgridcolor": "white",
             "startlinecolor": "#2a3f5f"
            },
            "type": "carpet"
           }
          ],
          "choropleth": [
           {
            "colorbar": {
             "outlinewidth": 0,
             "ticks": ""
            },
            "type": "choropleth"
           }
          ],
          "contour": [
           {
            "colorbar": {
             "outlinewidth": 0,
             "ticks": ""
            },
            "colorscale": [
             [
              0,
              "#0d0887"
             ],
             [
              0.1111111111111111,
              "#46039f"
             ],
             [
              0.2222222222222222,
              "#7201a8"
             ],
             [
              0.3333333333333333,
              "#9c179e"
             ],
             [
              0.4444444444444444,
              "#bd3786"
             ],
             [
              0.5555555555555556,
              "#d8576b"
             ],
             [
              0.6666666666666666,
              "#ed7953"
             ],
             [
              0.7777777777777778,
              "#fb9f3a"
             ],
             [
              0.8888888888888888,
              "#fdca26"
             ],
             [
              1,
              "#f0f921"
             ]
            ],
            "type": "contour"
           }
          ],
          "contourcarpet": [
           {
            "colorbar": {
             "outlinewidth": 0,
             "ticks": ""
            },
            "type": "contourcarpet"
           }
          ],
          "heatmap": [
           {
            "colorbar": {
             "outlinewidth": 0,
             "ticks": ""
            },
            "colorscale": [
             [
              0,
              "#0d0887"
             ],
             [
              0.1111111111111111,
              "#46039f"
             ],
             [
              0.2222222222222222,
              "#7201a8"
             ],
             [
              0.3333333333333333,
              "#9c179e"
             ],
             [
              0.4444444444444444,
              "#bd3786"
             ],
             [
              0.5555555555555556,
              "#d8576b"
             ],
             [
              0.6666666666666666,
              "#ed7953"
             ],
             [
              0.7777777777777778,
              "#fb9f3a"
             ],
             [
              0.8888888888888888,
              "#fdca26"
             ],
             [
              1,
              "#f0f921"
             ]
            ],
            "type": "heatmap"
           }
          ],
          "heatmapgl": [
           {
            "colorbar": {
             "outlinewidth": 0,
             "ticks": ""
            },
            "colorscale": [
             [
              0,
              "#0d0887"
             ],
             [
              0.1111111111111111,
              "#46039f"
             ],
             [
              0.2222222222222222,
              "#7201a8"
             ],
             [
              0.3333333333333333,
              "#9c179e"
             ],
             [
              0.4444444444444444,
              "#bd3786"
             ],
             [
              0.5555555555555556,
              "#d8576b"
             ],
             [
              0.6666666666666666,
              "#ed7953"
             ],
             [
              0.7777777777777778,
              "#fb9f3a"
             ],
             [
              0.8888888888888888,
              "#fdca26"
             ],
             [
              1,
              "#f0f921"
             ]
            ],
            "type": "heatmapgl"
           }
          ],
          "histogram": [
           {
            "marker": {
             "pattern": {
              "fillmode": "overlay",
              "size": 10,
              "solidity": 0.2
             }
            },
            "type": "histogram"
           }
          ],
          "histogram2d": [
           {
            "colorbar": {
             "outlinewidth": 0,
             "ticks": ""
            },
            "colorscale": [
             [
              0,
              "#0d0887"
             ],
             [
              0.1111111111111111,
              "#46039f"
             ],
             [
              0.2222222222222222,
              "#7201a8"
             ],
             [
              0.3333333333333333,
              "#9c179e"
             ],
             [
              0.4444444444444444,
              "#bd3786"
             ],
             [
              0.5555555555555556,
              "#d8576b"
             ],
             [
              0.6666666666666666,
              "#ed7953"
             ],
             [
              0.7777777777777778,
              "#fb9f3a"
             ],
             [
              0.8888888888888888,
              "#fdca26"
             ],
             [
              1,
              "#f0f921"
             ]
            ],
            "type": "histogram2d"
           }
          ],
          "histogram2dcontour": [
           {
            "colorbar": {
             "outlinewidth": 0,
             "ticks": ""
            },
            "colorscale": [
             [
              0,
              "#0d0887"
             ],
             [
              0.1111111111111111,
              "#46039f"
             ],
             [
              0.2222222222222222,
              "#7201a8"
             ],
             [
              0.3333333333333333,
              "#9c179e"
             ],
             [
              0.4444444444444444,
              "#bd3786"
             ],
             [
              0.5555555555555556,
              "#d8576b"
             ],
             [
              0.6666666666666666,
              "#ed7953"
             ],
             [
              0.7777777777777778,
              "#fb9f3a"
             ],
             [
              0.8888888888888888,
              "#fdca26"
             ],
             [
              1,
              "#f0f921"
             ]
            ],
            "type": "histogram2dcontour"
           }
          ],
          "mesh3d": [
           {
            "colorbar": {
             "outlinewidth": 0,
             "ticks": ""
            },
            "type": "mesh3d"
           }
          ],
          "parcoords": [
           {
            "line": {
             "colorbar": {
              "outlinewidth": 0,
              "ticks": ""
             }
            },
            "type": "parcoords"
           }
          ],
          "pie": [
           {
            "automargin": true,
            "type": "pie"
           }
          ],
          "scatter": [
           {
            "fillpattern": {
             "fillmode": "overlay",
             "size": 10,
             "solidity": 0.2
            },
            "type": "scatter"
           }
          ],
          "scatter3d": [
           {
            "line": {
             "colorbar": {
              "outlinewidth": 0,
              "ticks": ""
             }
            },
            "marker": {
             "colorbar": {
              "outlinewidth": 0,
              "ticks": ""
             }
            },
            "type": "scatter3d"
           }
          ],
          "scattercarpet": [
           {
            "marker": {
             "colorbar": {
              "outlinewidth": 0,
              "ticks": ""
             }
            },
            "type": "scattercarpet"
           }
          ],
          "scattergeo": [
           {
            "marker": {
             "colorbar": {
              "outlinewidth": 0,
              "ticks": ""
             }
            },
            "type": "scattergeo"
           }
          ],
          "scattergl": [
           {
            "marker": {
             "colorbar": {
              "outlinewidth": 0,
              "ticks": ""
             }
            },
            "type": "scattergl"
           }
          ],
          "scattermapbox": [
           {
            "marker": {
             "colorbar": {
              "outlinewidth": 0,
              "ticks": ""
             }
            },
            "type": "scattermapbox"
           }
          ],
          "scatterpolar": [
           {
            "marker": {
             "colorbar": {
              "outlinewidth": 0,
              "ticks": ""
             }
            },
            "type": "scatterpolar"
           }
          ],
          "scatterpolargl": [
           {
            "marker": {
             "colorbar": {
              "outlinewidth": 0,
              "ticks": ""
             }
            },
            "type": "scatterpolargl"
           }
          ],
          "scatterternary": [
           {
            "marker": {
             "colorbar": {
              "outlinewidth": 0,
              "ticks": ""
             }
            },
            "type": "scatterternary"
           }
          ],
          "surface": [
           {
            "colorbar": {
             "outlinewidth": 0,
             "ticks": ""
            },
            "colorscale": [
             [
              0,
              "#0d0887"
             ],
             [
              0.1111111111111111,
              "#46039f"
             ],
             [
              0.2222222222222222,
              "#7201a8"
             ],
             [
              0.3333333333333333,
              "#9c179e"
             ],
             [
              0.4444444444444444,
              "#bd3786"
             ],
             [
              0.5555555555555556,
              "#d8576b"
             ],
             [
              0.6666666666666666,
              "#ed7953"
             ],
             [
              0.7777777777777778,
              "#fb9f3a"
             ],
             [
              0.8888888888888888,
              "#fdca26"
             ],
             [
              1,
              "#f0f921"
             ]
            ],
            "type": "surface"
           }
          ],
          "table": [
           {
            "cells": {
             "fill": {
              "color": "#EBF0F8"
             },
             "line": {
              "color": "white"
             }
            },
            "header": {
             "fill": {
              "color": "#C8D4E3"
             },
             "line": {
              "color": "white"
             }
            },
            "type": "table"
           }
          ]
         },
         "layout": {
          "annotationdefaults": {
           "arrowcolor": "#2a3f5f",
           "arrowhead": 0,
           "arrowwidth": 1
          },
          "autotypenumbers": "strict",
          "coloraxis": {
           "colorbar": {
            "outlinewidth": 0,
            "ticks": ""
           }
          },
          "colorscale": {
           "diverging": [
            [
             0,
             "#8e0152"
            ],
            [
             0.1,
             "#c51b7d"
            ],
            [
             0.2,
             "#de77ae"
            ],
            [
             0.3,
             "#f1b6da"
            ],
            [
             0.4,
             "#fde0ef"
            ],
            [
             0.5,
             "#f7f7f7"
            ],
            [
             0.6,
             "#e6f5d0"
            ],
            [
             0.7,
             "#b8e186"
            ],
            [
             0.8,
             "#7fbc41"
            ],
            [
             0.9,
             "#4d9221"
            ],
            [
             1,
             "#276419"
            ]
           ],
           "sequential": [
            [
             0,
             "#0d0887"
            ],
            [
             0.1111111111111111,
             "#46039f"
            ],
            [
             0.2222222222222222,
             "#7201a8"
            ],
            [
             0.3333333333333333,
             "#9c179e"
            ],
            [
             0.4444444444444444,
             "#bd3786"
            ],
            [
             0.5555555555555556,
             "#d8576b"
            ],
            [
             0.6666666666666666,
             "#ed7953"
            ],
            [
             0.7777777777777778,
             "#fb9f3a"
            ],
            [
             0.8888888888888888,
             "#fdca26"
            ],
            [
             1,
             "#f0f921"
            ]
           ],
           "sequentialminus": [
            [
             0,
             "#0d0887"
            ],
            [
             0.1111111111111111,
             "#46039f"
            ],
            [
             0.2222222222222222,
             "#7201a8"
            ],
            [
             0.3333333333333333,
             "#9c179e"
            ],
            [
             0.4444444444444444,
             "#bd3786"
            ],
            [
             0.5555555555555556,
             "#d8576b"
            ],
            [
             0.6666666666666666,
             "#ed7953"
            ],
            [
             0.7777777777777778,
             "#fb9f3a"
            ],
            [
             0.8888888888888888,
             "#fdca26"
            ],
            [
             1,
             "#f0f921"
            ]
           ]
          },
          "colorway": [
           "#636efa",
           "#EF553B",
           "#00cc96",
           "#ab63fa",
           "#FFA15A",
           "#19d3f3",
           "#FF6692",
           "#B6E880",
           "#FF97FF",
           "#FECB52"
          ],
          "font": {
           "color": "#2a3f5f"
          },
          "geo": {
           "bgcolor": "white",
           "lakecolor": "white",
           "landcolor": "#E5ECF6",
           "showlakes": true,
           "showland": true,
           "subunitcolor": "white"
          },
          "hoverlabel": {
           "align": "left"
          },
          "hovermode": "closest",
          "mapbox": {
           "style": "light"
          },
          "paper_bgcolor": "white",
          "plot_bgcolor": "#E5ECF6",
          "polar": {
           "angularaxis": {
            "gridcolor": "white",
            "linecolor": "white",
            "ticks": ""
           },
           "bgcolor": "#E5ECF6",
           "radialaxis": {
            "gridcolor": "white",
            "linecolor": "white",
            "ticks": ""
           }
          },
          "scene": {
           "xaxis": {
            "backgroundcolor": "#E5ECF6",
            "gridcolor": "white",
            "gridwidth": 2,
            "linecolor": "white",
            "showbackground": true,
            "ticks": "",
            "zerolinecolor": "white"
           },
           "yaxis": {
            "backgroundcolor": "#E5ECF6",
            "gridcolor": "white",
            "gridwidth": 2,
            "linecolor": "white",
            "showbackground": true,
            "ticks": "",
            "zerolinecolor": "white"
           },
           "zaxis": {
            "backgroundcolor": "#E5ECF6",
            "gridcolor": "white",
            "gridwidth": 2,
            "linecolor": "white",
            "showbackground": true,
            "ticks": "",
            "zerolinecolor": "white"
           }
          },
          "shapedefaults": {
           "line": {
            "color": "#2a3f5f"
           }
          },
          "ternary": {
           "aaxis": {
            "gridcolor": "white",
            "linecolor": "white",
            "ticks": ""
           },
           "baxis": {
            "gridcolor": "white",
            "linecolor": "white",
            "ticks": ""
           },
           "bgcolor": "#E5ECF6",
           "caxis": {
            "gridcolor": "white",
            "linecolor": "white",
            "ticks": ""
           }
          },
          "title": {
           "x": 0.05
          },
          "xaxis": {
           "automargin": true,
           "gridcolor": "white",
           "linecolor": "white",
           "ticks": "",
           "title": {
            "standoff": 15
           },
           "zerolinecolor": "white",
           "zerolinewidth": 2
          },
          "yaxis": {
           "automargin": true,
           "gridcolor": "white",
           "linecolor": "white",
           "ticks": "",
           "title": {
            "standoff": 15
           },
           "zerolinecolor": "white",
           "zerolinewidth": 2
          }
         }
        }
       }
      }
     },
     "metadata": {},
     "output_type": "display_data"
    }
   ],
   "source": [
    "fig = px.scatter_mapbox(kayak_df.loc[kayak_df['hotel_name'].isin(best_hotels)], \n",
    "                        lat=\"hotel_latitude\", lon=\"hotel_longtitude\", color_continuous_scale=px.colors.sequential.Bluered,\n",
    "                        hover_name=\"hotel_name\", color=\"score\", size=\"score\",\n",
    "                        zoom=4, mapbox_style=\"open-street-map\")\n",
    "fig.show()"
   ]
  }
 ],
 "metadata": {
  "kernelspec": {
   "display_name": "Python 3",
   "language": "python",
   "name": "python3"
  },
  "language_info": {
   "codemirror_mode": {
    "name": "ipython",
    "version": 3
   },
   "file_extension": ".py",
   "mimetype": "text/x-python",
   "name": "python",
   "nbconvert_exporter": "python",
   "pygments_lexer": "ipython3",
   "version": "3.10.10"
  },
  "orig_nbformat": 4,
  "vscode": {
   "interpreter": {
    "hash": "a0fdf8838102b5a6b2938995cfca801768491c1c6585082ea8435b0dad918ca1"
   }
  }
 },
 "nbformat": 4,
 "nbformat_minor": 2
}
