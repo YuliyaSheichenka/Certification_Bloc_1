{
 "cells": [
  {
   "cell_type": "code",
   "execution_count": 1,
   "metadata": {},
   "outputs": [],
   "source": [
    "# Installing dotenv library to manage confidential keys saved as environment variables\n",
    "#!pip install python-dotenv"
   ]
  },
  {
   "cell_type": "code",
   "execution_count": 2,
   "metadata": {},
   "outputs": [
    {
     "data": {
      "text/plain": [
       "True"
      ]
     },
     "execution_count": 2,
     "metadata": {},
     "output_type": "execute_result"
    }
   ],
   "source": [
    "import boto3\n",
    "import os\n",
    "from dotenv import load_dotenv\n",
    "\n",
    "load_dotenv()"
   ]
  },
  {
   "cell_type": "code",
   "execution_count": 3,
   "metadata": {},
   "outputs": [],
   "source": [
    "\"\"\"# Access key for user with access to write in S3 bucket\n",
    "S3_ACCESS_KEY_ID =  os.getenv(\"S3_ACCESS_KEY_ID\")\n",
    "# Secret key for user with access to write in S3 bucket \n",
    "S3_SECRET_ACCESS_KEY =  os.getenv(\"S3_SECRET_ACCESS_KEY\")\n",
    "\n",
    "# Writing the .csv file to bucket S3\n",
    "session = boto3.Session(aws_access_key_id=S3_ACCESS_KEY_ID, \n",
    "                      aws_secret_access_key=S3_SECRET_ACCESS_KEY)\n",
    "s3 = session.resource(\"s3\")\n",
    "bucket = s3.Bucket(\"kayak-booking-bucket-12-12-2022\") \n",
    "bucket.upload_file(\"result//booking_hotels_data.json\", Key=\"booking_hotels_data.json\")\"\"\""
   ]
  }
 ],
 "metadata": {
  "kernelspec": {
   "display_name": "Python 3",
   "language": "python",
   "name": "python3"
  },
  "language_info": {
   "codemirror_mode": {
    "name": "ipython",
    "version": 3
   },
   "file_extension": ".py",
   "mimetype": "text/x-python",
   "name": "python",
   "nbconvert_exporter": "python",
   "pygments_lexer": "ipython3",
   "version": "3.10.10"
  },
  "orig_nbformat": 4,
  "vscode": {
   "interpreter": {
    "hash": "a0fdf8838102b5a6b2938995cfca801768491c1c6585082ea8435b0dad918ca1"
   }
  }
 },
 "nbformat": 4,
 "nbformat_minor": 2
}
